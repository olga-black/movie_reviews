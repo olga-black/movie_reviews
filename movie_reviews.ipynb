{
 "cells": [
  {
   "cell_type": "markdown",
   "metadata": {},
   "source": [
    "# <span style=\"color:turquoise\">Text classification with pytorch</span>\n",
    "\n",
    "\n",
    "An example of using natural language processing for sentiment analysis. <br> Building a binary classifier of movie reviews that will predict if a review is positive or negative.\n",
    "\n",
    "\n",
    "\n",
    "\n",
    "__Dataset:__ IMDB movie reviews from Kaggle<br>\n",
    "__Model:__ LSTM\n"
   ]
  },
  {
   "cell_type": "code",
   "execution_count": 1,
   "metadata": {},
   "outputs": [
    {
     "name": "stderr",
     "output_type": "stream",
     "text": [
      "/usr/local/lib/python3.8/dist-packages/torch/cuda/__init__.py:52: UserWarning: CUDA initialization: Found no NVIDIA driver on your system. Please check that you have an NVIDIA GPU and installed a driver from http://www.nvidia.com/Download/index.aspx (Triggered internally at  /pytorch/c10/cuda/CUDAFunctions.cpp:100.)\n",
      "  return torch._C._cuda_getDeviceCount() > 0\n"
     ]
    }
   ],
   "source": [
    "import csv\n",
    "import random\n",
    "import numpy as np\n",
    "from collections import Counter\n",
    "\n",
    "from nltk.corpus import stopwords\n",
    "from nltk import word_tokenize\n",
    "from nltk.stem import WordNetLemmatizer\n",
    "import re\n",
    "\n",
    "import torch\n",
    "import torch.nn as nn\n",
    "from torch.optim.lr_scheduler import StepLR\n",
    "\n",
    "import matplotlib.pyplot as plt\n",
    "import time\n",
    "\n",
    "device = torch.device(\"cuda\" if torch.cuda.is_available() else \"cpu\")"
   ]
  },
  {
   "cell_type": "markdown",
   "metadata": {},
   "source": [
    "## <span style=\"color:teal\">Read the data and split it into training, cross-validation, and test sets</span>"
   ]
  },
  {
   "cell_type": "code",
   "execution_count": 2,
   "metadata": {},
   "outputs": [],
   "source": [
    "class Reviews():\n",
    "    \n",
    "    def __init__(self):\n",
    "        self.train = {}\n",
    "        self.val = {}\n",
    "        self.test = {}\n",
    "        self.LABELS = {\"positive\":1, \"negative\": 0}\n",
    "        self.COUNT = {\"positive\": 0, \"negative\": 0}\n",
    "    \n",
    "    \n",
    "    def read_data(self):\n",
    "        \n",
    "        dataset = []\n",
    "        \n",
    "        with open (\"IMDB_Dataset.csv\", newline='') as f:\n",
    "            datareader = csv.reader(f, delimiter=',')\n",
    "            next(datareader, None)\n",
    "\n",
    "            for row in datareader:\n",
    "                dataset.append([row[0], self.LABELS[row[1]]])\n",
    "                self.COUNT[row[1]] += 1\n",
    "            \n",
    "            random.shuffle(dataset)\n",
    "                \n",
    "        return dataset\n",
    "\n",
    "\n",
    "\n",
    "\n",
    "    def split_dataset(self,\n",
    "                      dataset,\n",
    "                      split=[int(50000*0.6), int(50000*0.2), int(50000*0.2)]):\n",
    "        \n",
    "        train, val, test = torch.utils.data.random_split(dataset,\n",
    "                                               split,\n",
    "                                               generator=torch.Generator().manual_seed(43))\n",
    "          \n",
    "            \n",
    "        return train, val, test"
   ]
  },
  {
   "cell_type": "code",
   "execution_count": 3,
   "metadata": {},
   "outputs": [],
   "source": [
    "rev = Reviews()\n",
    "data = rev.read_data()\n",
    "pos_count = rev.COUNT[\"positive\"]\n",
    "neg_count = rev.COUNT[\"negative\"]\n"
   ]
  },
  {
   "cell_type": "code",
   "execution_count": 4,
   "metadata": {},
   "outputs": [
    {
     "name": "stdout",
     "output_type": "stream",
     "text": [
      "['I had the privilege to see this movie at the Intenational Film Festival of Rotterdam. ', 1]\n"
     ]
    }
   ],
   "source": [
    "print(data[10])"
   ]
  },
  {
   "cell_type": "code",
   "execution_count": 5,
   "metadata": {},
   "outputs": [
    {
     "name": "stdout",
     "output_type": "stream",
     "text": [
      "[\"I watched this movie when Joe Bob Briggs hosted Monstervision on TNT. Even he couldn't make this movie enjoyable. The only reason I watched it until the end is because I teach video production and I wanted to make sure my students never made anything this bad ... but it took all my intestinal fortitude to sit through it though. It's like watching your great grandmother flirting with a 15 year old boy ... excruciatingly painful. If you see this movie in the bargin bin at S-Mart, back away from it as if it were a rattlesnake.\", 0]\n"
     ]
    }
   ],
   "source": [
    "train, val, test = rev.split_dataset(data)\n",
    "print(train[10])"
   ]
  },
  {
   "cell_type": "code",
   "execution_count": 6,
   "metadata": {},
   "outputs": [
    {
     "name": "stdout",
     "output_type": "stream",
     "text": [
      "30000 10000 10000\n"
     ]
    }
   ],
   "source": [
    "print(len(train), len(val), len(test))"
   ]
  },
  {
   "cell_type": "code",
   "execution_count": 7,
   "metadata": {},
   "outputs": [],
   "source": [
    "def split_x_and_y(data):\n",
    "    x = []\n",
    "    y = []\n",
    "    for review, label in data:\n",
    "        x.append(review)\n",
    "        y.append(label)\n",
    "    return x, np.array(y)"
   ]
  },
  {
   "cell_type": "code",
   "execution_count": 8,
   "metadata": {},
   "outputs": [
    {
     "name": "stdout",
     "output_type": "stream",
     "text": [
      "30000 30000\n",
      "14944 5014 5042\n"
     ]
    }
   ],
   "source": [
    "train_x_raw, train_y = split_x_and_y(train)\n",
    "val_x_raw, val_y = split_x_and_y(val)\n",
    "test_x_raw, test_y = split_x_and_y(test)\n",
    "\n",
    "\n",
    "print(len(train_x_raw), len(train_y))\n",
    "#print(train_x_raw[50], train_y[50])\n",
    "\n",
    "# Check if datasets are balanced - how many positive reviews in each\n",
    "print(np.count_nonzero(train_y), np.count_nonzero(val_y), np.count_nonzero(test_y))"
   ]
  },
  {
   "cell_type": "markdown",
   "metadata": {},
   "source": [
    "## <span style=\"color:teal\">Preprocess text</span>"
   ]
  },
  {
   "cell_type": "code",
   "execution_count": 9,
   "metadata": {},
   "outputs": [],
   "source": [
    "def preprocess(review,\n",
    "               remove_stopwords=False, \n",
    "               remove_html=True, \n",
    "               remove_punct=False, \n",
    "               lowercase=False, \n",
    "               lemmatize=False,\n",
    "               maxlen=None):\n",
    "    \n",
    "    review = re.sub(r\"\\'\", \"'\", review)\n",
    "    review = re.sub(r\"\\x96\", \"-\", review)\n",
    "    \n",
    "    if remove_html:\n",
    "        review = re.sub(r'<.*>', ' ', review)\n",
    "    \n",
    "    review = word_tokenize(review)\n",
    "        \n",
    "    if remove_stopwords:\n",
    "        stop_words = set(stopwords.words(\"english\"))\n",
    "        review = [w for w in review if w not in stop_words]\n",
    "        \n",
    "    if remove_punct:\n",
    "        contractions = [\"'ll\", \"'s\", \"n't\", \"'d\", \"'m\", \"'ve\", \"'re\"]\n",
    "        review = [w for w in review if w.isalnum() or w in contractions]\n",
    "    \n",
    "    if lowercase:\n",
    "        review = [w.lower() for w in review]\n",
    "        \n",
    "    if lemmatize:\n",
    "        lemmatizer = WordNetLemmatizer()\n",
    "        review = [lemmatizer.lemmatize(w) for w in review]\n",
    "    \n",
    "    \n",
    "    return review[:maxlen]\n",
    "    \n"
   ]
  },
  {
   "cell_type": "code",
   "execution_count": 10,
   "metadata": {},
   "outputs": [],
   "source": [
    "train_words = [preprocess(review, \n",
    "                      lowercase=True, \n",
    "                      remove_punct=True,\n",
    "                      remove_stopwords=True\n",
    "                     ) \n",
    "           for review in train_x_raw]\n",
    "\n",
    "val_words = [preprocess(review, \n",
    "                    lowercase=True, \n",
    "                    remove_punct=True,\n",
    "                    remove_stopwords=True\n",
    "                   ) \n",
    "         for review in val_x_raw]"
   ]
  },
  {
   "cell_type": "code",
   "execution_count": 11,
   "metadata": {},
   "outputs": [
    {
     "name": "stdout",
     "output_type": "stream",
     "text": [
      "['curse', \"n't\", 'really', 'deserve', 'long', 'detailed', 'review', 'i', \"'ll\", 'make', 'random', 'observations', '4'] \n",
      " ['let', \"'s\", 'start', 'simple', 'lines', 'from', 'viewer', \"'s\", 'side', 'couple', 'good', 'director', 'details', 'points', 'view', 'movie', 'scenes', 'nice', 'the', 'special', 'effects', 'good', 'enough', 'good', 'scenery', 'also', 'but', 'story', 'way', 'simple', 'it', 'shows', 'elite', 'army', 'bomb', 'squad', 'unit', 'lives', 'acts', 'sometimes', 'dies', 'it', 'shows', 'drama', 'living', 'war', 'in', 'movie', 'experience', 'serious', 'action', 'movie', 'addicted', 'guy', 'i', 'missed', 'click', 'gets', 'eyes', 'mind', 'stuck', 'screen', 'one', 'things', 'need', 'present', 'movie', 'order', 'i', 'consider', 'good', 'one', 'ability', 'immerse', 'viewer', 'movie', 'reality', 'time', 'it', \"n't\", 'happened', 'i', 'stayed', 'conscious', 'entire', 'movie', 'compared', 'rivals', 'oscars', 'i', \"n't\", 'think', 'prizes', 'correctly', 'awarded']\n",
      "13 \n",
      " 95\n"
     ]
    }
   ],
   "source": [
    "print(train_words[9592], '\\n', val_words[3029])\n",
    "print(len(train_words[9592]), '\\n', len(val_words[3029]))"
   ]
  },
  {
   "cell_type": "code",
   "execution_count": 12,
   "metadata": {},
   "outputs": [
    {
     "name": "stdout",
     "output_type": "stream",
     "text": [
      "30000\n"
     ]
    }
   ],
   "source": [
    "print(len(train_words))"
   ]
  },
  {
   "cell_type": "markdown",
   "metadata": {},
   "source": [
    "## <span style=\"color:teal\">Convert text to indices and add paddings</span>"
   ]
  },
  {
   "cell_type": "code",
   "execution_count": 13,
   "metadata": {},
   "outputs": [],
   "source": [
    "def make_vocabulary(preprocessed_data, \n",
    "                    vocab_size=15000,\n",
    "                    pad_token='<PAD>',\n",
    "                    unk_token='<UNK>'):\n",
    "    \n",
    "    # Create a vocabulary list of a given size\n",
    "    freqs = {}\n",
    "    for review in preprocessed_data:\n",
    "        for word in review:\n",
    "            freqs[word] = freqs.get(word, 0) + 1\n",
    "            \n",
    "    freqs_list = Counter(freqs).most_common(vocab_size)\n",
    "    \n",
    "    assert len(freqs_list) == vocab_size\n",
    "    \n",
    "    # Create word-index mappings\n",
    "    vocab_list = [pair[0] for pair in freqs_list]\n",
    "    word2ind = {word : i+2 for i, word in enumerate(vocab_list)}\n",
    "    \n",
    "    # Prepend the pad token\n",
    "    word2ind[pad_token] = 0\n",
    "    \n",
    "    # Prepend the 'unknown' token\n",
    "    word2ind[unk_token] = 1\n",
    "\n",
    "    \n",
    "    return word2ind\n",
    "  \n",
    "    "
   ]
  },
  {
   "cell_type": "code",
   "execution_count": 14,
   "metadata": {},
   "outputs": [
    {
     "name": "stdout",
     "output_type": "stream",
     "text": [
      "10002\n",
      "2 237\n"
     ]
    }
   ],
   "source": [
    "word2ind = make_vocabulary(train_words, vocab_size=10000)\n",
    "\n",
    "print(len(word2ind))\n",
    "print(word2ind['i'], word2ind['awful'])"
   ]
  },
  {
   "cell_type": "code",
   "execution_count": 15,
   "metadata": {},
   "outputs": [
    {
     "name": "stdout",
     "output_type": "stream",
     "text": [
      "161\n"
     ]
    }
   ],
   "source": [
    "print(word2ind['not'])"
   ]
  },
  {
   "cell_type": "code",
   "execution_count": 16,
   "metadata": {},
   "outputs": [],
   "source": [
    "del train_x_raw, val_x_raw"
   ]
  },
  {
   "cell_type": "code",
   "execution_count": 17,
   "metadata": {},
   "outputs": [
    {
     "name": "stdout",
     "output_type": "stream",
     "text": [
      "612\n",
      "78.06103333333333\n",
      "588\n",
      "78.2461\n"
     ]
    }
   ],
   "source": [
    "print(np.max([len(x) for x in train_words]))\n",
    "print(np.mean([len(x) for x in train_words]))\n",
    "\n",
    "print(np.max([len(x) for x in val_words]))\n",
    "print(np.mean([len(x) for x in val_words]))"
   ]
  },
  {
   "cell_type": "code",
   "execution_count": 18,
   "metadata": {},
   "outputs": [],
   "source": [
    "def make_padded_inputs(preprocessed_data, \n",
    "                       vocab, \n",
    "                       padded_length=64,\n",
    "                       pad_token='<PAD>',\n",
    "                       unk_token='<UNK>'):\n",
    "    \n",
    "    num_lines = len(preprocessed_data)\n",
    "    pad = vocab[pad_token]\n",
    "    \n",
    "    inputs = np.full((num_lines, padded_length), pad)\n",
    "    \n",
    "    for i, review in enumerate(preprocessed_data):\n",
    "        if len(review) <= padded_length:\n",
    "            start_position = padded_length - len(review)\n",
    "        else:\n",
    "            start_position = 0\n",
    "        for j, word in enumerate(review[:padded_length]):\n",
    "            inputs[i, (start_position + j)] = vocab.get(word, vocab[unk_token])       \n",
    "    return inputs\n",
    "            "
   ]
  },
  {
   "cell_type": "code",
   "execution_count": 19,
   "metadata": {},
   "outputs": [
    {
     "name": "stdout",
     "output_type": "stream",
     "text": [
      "Training example at indices 5 and 6:\n",
      "[['this', 'film', 'seems', 'rip', 'many', 'movies', 'dealt', 'subject', 'past', 'let', 'future', 'viewer', 'forewarned', 'art', 'heist', \"n't\", 'add', 'anything', 'genre', 'director', 'bryan', 'goeres', 'clue', 'film', 'a', 'movie', 'seen', 'viewer', \"'s\", 'risk'], ['for', 'reason', 'look', 'remake', 'see', 'bad', 'funny', 'could', 'there', 'doubt', 'funny', 'bad', 'i', 'seen', 'voyna', 'mir', '1968', 'shall', 'begin', 'here', 'go', '4', '10', '1', 'point', 'given', 'start', '1', 'point', 'goes', 'recklessness', '2', 'points', 'last', 'part', 'serial', 'thanks', 'attention']]\n",
      "\n",
      "    Converted to indices:\n",
      "[[   0    0    0    0    0    0    0    0    0    0    0    0    0    0\n",
      "     0    0    0    0    0    0    0    0    0    0    0    0    0    0\n",
      "     0    0    0    0    0    0   11    6  121 2051   39   25 3038  673\n",
      "   436  191  628  441    1  407 3259    7  617  156  404   76 7845    1\n",
      "  1913    6   45    4   31  441    3 2748]\n",
      " [   0    0    0    0    0    0    0    0    0    0    0    0    0    0\n",
      "     0    0    0    0    0    0    0    0    0    0    0    0  222  213\n",
      "    83  787   15   20   67   22   58  669   67   20    2   31    1    1\n",
      "  4680 2968  825  875   65  478  146  376  160  310  301  376  160  212\n",
      "     1  189  753  138   97 1470  960  582]]\n",
      "\n",
      "30 30\n"
     ]
    }
   ],
   "source": [
    "train_x = make_padded_inputs(train_words, word2ind)\n",
    "val_x = make_padded_inputs(val_words, word2ind)\n",
    "\n",
    "\n",
    "print(f\"\"\"Training example at indices 5 and 6:\\n{train_words[5:7]}\\n\n",
    "    Converted to indices:\\n{train_x[5:7, :]}\\n\"\"\")\n",
    "\n",
    "print(len(train_words[5]), np.count_nonzero(train_x[5]))\n",
    "\n",
    "assert (len(train_words[5]) == np.count_nonzero(train_x[5])) or (64 == np.count_nonzero(train_x[5]))"
   ]
  },
  {
   "cell_type": "code",
   "execution_count": 20,
   "metadata": {},
   "outputs": [
    {
     "name": "stdout",
     "output_type": "stream",
     "text": [
      "(30000, 64)\n"
     ]
    }
   ],
   "source": [
    "print(train_x.shape)"
   ]
  },
  {
   "cell_type": "markdown",
   "metadata": {},
   "source": [
    "## <span style=\"color:teal\">Load data into torch</span>"
   ]
  },
  {
   "cell_type": "code",
   "execution_count": 21,
   "metadata": {},
   "outputs": [],
   "source": [
    "train_dataset = torch.utils.data.TensorDataset(torch.from_numpy(train_x), torch.from_numpy(train_y))\n",
    "val_dataset = torch.utils.data.TensorDataset(torch.from_numpy(val_x), torch.from_numpy(val_y))"
   ]
  },
  {
   "cell_type": "code",
   "execution_count": 22,
   "metadata": {},
   "outputs": [],
   "source": [
    "batch_size = 64\n",
    "\n",
    "train_loader = torch.utils.data.DataLoader(train_dataset, batch_size=batch_size)\n",
    "val_loader = torch.utils.data.DataLoader(val_dataset, batch_size=batch_size)"
   ]
  },
  {
   "cell_type": "code",
   "execution_count": 23,
   "metadata": {},
   "outputs": [
    {
     "name": "stdout",
     "output_type": "stream",
     "text": [
      "tensor([[   0,    0,    0,    0,    0,    0,    0,    0,    0,    0,    0,    0,\n",
      "            0,    0,    0,    0,  612,    2,  259,  182,    6,   12,    2,  114,\n",
      "           54,    6,   12,  294,  582,  418, 6796,  327,  414,    1, 1087,    1,\n",
      "          226,    6,  139,  217,    5,  120,    2, 1988,    6, 1519,  120,   22,\n",
      "          294,  582,    1,  508,  217,  408,    2,  747, 1431,    1, 1087,    1,\n",
      "            2,    6,    1, 1164],\n",
      "        [4029,    1, 7058,  512,  279, 3578, 1262,    4,  151,  200,   17,    9,\n",
      "          233, 4321, 2543,   25,    1,   69, 1782,  497,   45, 2349, 1207, 6918,\n",
      "          427, 2381, 2136,    1,    1, 1494,    1, 8073,  152,  926,   77,  110,\n",
      "            1,   51,  840, 4875,    1,    8,    1, 3037, 1872,    1, 8074,   37,\n",
      "         3848,    8,   51, 6918,  488,  154, 6280,    1, 1122,  298, 6041,  608,\n",
      "           26,  316, 2350,    1],\n",
      "        [  60,  368,    6,    8, 8286,  533,  513,   51, 3982,  250,  893,   41,\n",
      "         1646,  837, 3734,    3,  800,  102,  100,   89, 3620,   37, 4369,  513,\n",
      "         1236, 3546,  483,  800,  250, 9041,  304,    1,    1,    2,   56,  145,\n",
      "            4,  550,  118,  147,  410, 5484,  533,   39,  107,    3, 1366,    1,\n",
      "         1083, 5023,  538,  978,  236,   24, 1912,    1, 1755,    1, 1236, 3546,\n",
      "            8,    1,    8, 7503],\n",
      "        [6663, 7504,   90,   12,    6, 8287,  379,    6, 6664,  344,  305,  137,\n",
      "          912,  710, 1286,    2,  434,   22,   15, 6281, 2093,   12,  562,  137,\n",
      "            2,  879,  136,  332,    5,  229,  225,  517, 1313,  722,   23,   46,\n",
      "         1405, 5174,  421,  553,  225,  367,    2,  114,  200, 6663, 7504,   25,\n",
      "          277,    2,  187, 5338, 1656, 2106,  286,  156,  238,  139,    2,   83,\n",
      "          732,  182,   84,   21],\n",
      "        [1685, 2382, 1834, 2370, 8075, 5024,    8,   22,  943,  592,   36, 1370,\n",
      "            1, 1620,    6, 1691,  113,  897,   54,    1,  328,  113, 1937, 5843,\n",
      "          203, 1000, 1127, 8784,    5, 8075,  947, 3007,    2,   13,    8, 2106,\n",
      "         9042,    6, 1166,  623,  592,    2, 2920, 1093,  301,    1, 4613, 4131,\n",
      "            1,  662,    2, 4030,  155,  274,    1,   96,  499, 1845,    5, 4557,\n",
      "            1, 2967,    6,   76]]) \n",
      " tensor([0, 0, 1, 1, 0])\n"
     ]
    }
   ],
   "source": [
    "print(list(train_loader)[0][0][:5], '\\n', list(train_loader)[0][1][:5],)"
   ]
  },
  {
   "cell_type": "code",
   "execution_count": 24,
   "metadata": {},
   "outputs": [
    {
     "name": "stdout",
     "output_type": "stream",
     "text": [
      "[['from', 'i', 'remember', 'seeing', 'film', 'good', 'i', 'always', 'say', 'film', 'good', 'keep', 'attention', 'throughout', 'hardest', 'moments', 'example', 'tylenol', 'cold', 'sinus', 'war', 'film', 'done', 'job', 'the', 'fact', 'i', 'asleep', 'film', 'proves', 'fact', 'could', 'keep', 'attention', 'ergo', 'complete', 'job', 'why', 'i', 'fall', 'victim', 'tylenol', 'cold', 'sinus', 'i', 'film', 'arsenal', 'grade']]\n",
      "48\n",
      "0\n"
     ]
    }
   ],
   "source": [
    "print(train_words[:1])\n",
    "print(len(train_words[0]))\n",
    "print(train_y[0])"
   ]
  },
  {
   "cell_type": "code",
   "execution_count": 25,
   "metadata": {},
   "outputs": [],
   "source": [
    "class SentimentClassifier(nn.Module):\n",
    "    \n",
    "    def __init__(self, \n",
    "                 vocab_size, \n",
    "                 d_feature, \n",
    "                 num_layers, \n",
    "                 hidden_size,\n",
    "                 n_outputs,\n",
    "                 dropout_rate,\n",
    "                 bidirectional=False):\n",
    "        \n",
    "        super().__init__()\n",
    "        \n",
    "        self.embedding = nn.Embedding(vocab_size, d_feature)\n",
    "        self.dropout = nn.Dropout(p=dropout_rate)\n",
    "        self.lstm = nn.LSTM(input_size=d_feature,\n",
    "                           hidden_size=hidden_size,\n",
    "                           num_layers=num_layers,\n",
    "                           bidirectional=bidirectional,\n",
    "                           batch_first=True)\n",
    "        self.fc = nn.Linear(hidden_size, n_outputs)\n",
    "        self.sigmoid = nn.Sigmoid()\n",
    "        \n",
    "        \n",
    "    def forward(self, input_data): \n",
    "        \n",
    "        embedded = self.dropout(self.embedding(input_data))\n",
    "        lstm_out, _ = self.lstm(embedded)\n",
    "        fc = self.fc(lstm_out[:,-1,:])\n",
    "        sigmoid = self.sigmoid(fc)\n",
    "   \n",
    "        return sigmoid\n",
    "    "
   ]
  },
  {
   "cell_type": "code",
   "execution_count": 26,
   "metadata": {},
   "outputs": [
    {
     "name": "stdout",
     "output_type": "stream",
     "text": [
      "SentimentClassifier(\n",
      "  (embedding): Embedding(10002, 64)\n",
      "  (dropout): Dropout(p=0.4, inplace=False)\n",
      "  (lstm): LSTM(64, 256, batch_first=True)\n",
      "  (fc): Linear(in_features=256, out_features=1, bias=True)\n",
      "  (sigmoid): Sigmoid()\n",
      ")\n"
     ]
    }
   ],
   "source": [
    "vocab_size = len(word2ind)\n",
    "d_feature = 64\n",
    "hidden_size = 256\n",
    "n_outputs = 1\n",
    "num_layers = 1\n",
    "dropout_rate = 0.4\n",
    "\n",
    "model = SentimentClassifier(\n",
    "                            vocab_size=vocab_size, \n",
    "                            d_feature=d_feature,  \n",
    "                            num_layers=num_layers, \n",
    "                            hidden_size=hidden_size, \n",
    "                            n_outputs=n_outputs,\n",
    "                            dropout_rate=dropout_rate).to(device)\n",
    "\n",
    "print(model)"
   ]
  },
  {
   "cell_type": "markdown",
   "metadata": {},
   "source": [
    "## <span style=\"color:teal\">Train model</span>"
   ]
  },
  {
   "cell_type": "code",
   "execution_count": 27,
   "metadata": {},
   "outputs": [],
   "source": [
    "def accuracy(outputs, targets):\n",
    "    outputs = torch.flatten(outputs)\n",
    "    assert outputs.shape == targets.shape\n",
    "    predicted = torch.where(outputs>=0.5, 1, 0)\n",
    "    accuracy = torch.Tensor.float(predicted==targets).mean()\n",
    "    return accuracy"
   ]
  },
  {
   "cell_type": "code",
   "execution_count": 28,
   "metadata": {},
   "outputs": [],
   "source": [
    "def train_model(train_loader=train_loader,\n",
    "             val_loader=val_loader,\n",
    "             model=model,\n",
    "             criterion=nn.BCELoss(),\n",
    "             n_epochs=6):\n",
    "    \n",
    "    start_time = time.time()\n",
    "    \n",
    "    train_losses = []\n",
    "    val_losses = []\n",
    "    accs = []\n",
    "    val_accs = []\n",
    "    \n",
    "    for epoch in range(n_epochs):\n",
    "        total_loss = 0\n",
    "        total_loss_val = 0\n",
    "        total_acc = 0\n",
    "        total_acc_val = 0\n",
    "        \n",
    "        model.train()\n",
    "        \n",
    "        for inputs, labels in train_loader: \n",
    "            optimizer= torch.optim.Adam(model.parameters(), lr=0.001)\n",
    "            #scheduler= StepLR(optimizer, step_size=n_epochs//2, gamma=0.1)\n",
    "            optimizer.zero_grad()\n",
    "            output = model(inputs)\n",
    "            loss = criterion(output.squeeze(), labels.float())\n",
    "            acc = accuracy(output, labels)\n",
    "            loss.backward()\n",
    "            nn.utils.clip_grad_norm_(model.parameters(), max_norm=2.0, norm_type=2)\n",
    "            optimizer.step()\n",
    "            total_loss += loss.item()\n",
    "            total_acc += acc.item()\n",
    "            \n",
    "        train_losses.append(total_loss/len(train_loader))\n",
    "        accs.append(total_acc/len(train_loader))\n",
    "        model.eval()\n",
    "        \n",
    "        \n",
    "        for val_inputs, val_labels in val_loader:\n",
    "            val_output = model(val_inputs)\n",
    "            val_loss = criterion(val_output.squeeze(), val_labels.float())\n",
    "            val_acc = accuracy(val_output, val_labels)\n",
    "            total_loss_val += val_loss.item()\n",
    "            total_acc_val += val_acc.item()\n",
    "            \n",
    "            \n",
    "        val_losses.append(total_loss_val/len(val_loader))\n",
    "        val_accs.append(total_acc_val/len(val_loader))\n",
    "        \n",
    "        #scheduler.step()\n",
    "        \n",
    "        print(f\"Epoch: {epoch+1}/{ n_epochs}\\t\",\n",
    "              f\"{((time.time() - start_time) / 60):.2f} min\\t\",\n",
    "              f\"Loss: {total_loss/len(train_loader):.3f}\\t\",\n",
    "              f\"Val Loss: {total_loss_val/len(val_loader):.3f}\\t\",\n",
    "              f\"Acc: {total_acc/len(train_loader):.3f}\\t\",\n",
    "              f\"Val Acc: {total_acc_val/len(val_loader):.3f}\")\n",
    "            \n",
    "    print(f\"Training completed in {(time.time() - start_time) / 60} min.\")\n",
    "    \n",
    "    return accs, val_accs, train_losses, val_losses\n",
    "    "
   ]
  },
  {
   "cell_type": "code",
   "execution_count": 29,
   "metadata": {
    "scrolled": true
   },
   "outputs": [
    {
     "name": "stdout",
     "output_type": "stream",
     "text": [
      "Epoch: 1/12\t 1.33 min\t Loss: 0.665\t Val Loss: 0.626\t Acc: 0.600\t Val Acc: 0.674\n",
      "Epoch: 2/12\t 2.66 min\t Loss: 0.593\t Val Loss: 0.557\t Acc: 0.692\t Val Acc: 0.711\n",
      "Epoch: 3/12\t 4.04 min\t Loss: 0.531\t Val Loss: 0.504\t Acc: 0.736\t Val Acc: 0.761\n",
      "Epoch: 4/12\t 5.68 min\t Loss: 0.494\t Val Loss: 0.473\t Acc: 0.761\t Val Acc: 0.779\n",
      "Epoch: 5/12\t 7.24 min\t Loss: 0.465\t Val Loss: 0.461\t Acc: 0.781\t Val Acc: 0.784\n",
      "Epoch: 6/12\t 9.23 min\t Loss: 0.454\t Val Loss: 0.448\t Acc: 0.788\t Val Acc: 0.790\n",
      "Epoch: 7/12\t 10.70 min\t Loss: 0.437\t Val Loss: 0.453\t Acc: 0.798\t Val Acc: 0.787\n",
      "Epoch: 8/12\t 12.18 min\t Loss: 0.427\t Val Loss: 0.436\t Acc: 0.801\t Val Acc: 0.796\n",
      "Epoch: 9/12\t 13.60 min\t Loss: 0.419\t Val Loss: 0.434\t Acc: 0.810\t Val Acc: 0.797\n",
      "Epoch: 10/12\t 14.85 min\t Loss: 0.412\t Val Loss: 0.429\t Acc: 0.813\t Val Acc: 0.799\n",
      "Epoch: 11/12\t 16.13 min\t Loss: 0.401\t Val Loss: 0.421\t Acc: 0.818\t Val Acc: 0.804\n",
      "Epoch: 12/12\t 17.27 min\t Loss: 0.391\t Val Loss: 0.426\t Acc: 0.825\t Val Acc: 0.800\n",
      "Training completed in 17.27175408601761 min.\n"
     ]
    }
   ],
   "source": [
    "accs, val_accs, train_losses, val_losses = train_model(n_epochs=12)"
   ]
  },
  {
   "cell_type": "code",
   "execution_count": 30,
   "metadata": {},
   "outputs": [],
   "source": [
    "def plot_losses(train_losses, val_losses):\n",
    "    plt.figure(figsize=(10,5))\n",
    "    plt.title(\"Training and Validation Loss\")\n",
    "    plt.plot(val_losses, label=\"val\")\n",
    "    plt.plot(train_losses, label=\"train\")\n",
    "    plt.xlabel(\"Iterations\")\n",
    "    plt.ylabel(\"Loss\")\n",
    "    plt.legend()\n",
    "    plt.show()"
   ]
  },
  {
   "cell_type": "code",
   "execution_count": 31,
   "metadata": {},
   "outputs": [],
   "source": [
    "def plot_accuracies(accuracies, val_accuracies):\n",
    "    plt.figure(figsize=(10,5))\n",
    "    plt.title(\"Training and Validation Accuracies\")\n",
    "    plt.plot(val_accuracies, label=\"val\")\n",
    "    plt.plot(accuracies, label=\"train\")\n",
    "    plt.xlabel(\"Iterations\")\n",
    "    plt.ylabel(\"Accuracy\")\n",
    "    plt.legend()\n",
    "    plt.show()"
   ]
  },
  {
   "cell_type": "code",
   "execution_count": 32,
   "metadata": {},
   "outputs": [
    {
     "data": {
      "image/png": "[encoded data removed]",
      "text/plain": [
       "<Figure size 720x360 with 1 Axes>"
      ]
     },
     "metadata": {
      "needs_background": "light"
     },
     "output_type": "display_data"
    },
    {
     "data": {
      "image/png": "[encoded data removed]",
      "text/plain": [
       "<Figure size 720x360 with 1 Axes>"
      ]
     },
     "metadata": {
      "needs_background": "light"
     },
     "output_type": "display_data"
    }
   ],
   "source": [
    "plot_losses(train_losses, val_losses)\n",
    "plot_accuracies(accs, val_accs)"
   ]
  },
  {
   "cell_type": "markdown",
   "metadata": {},
   "source": [
    "## <span style=\"color:teal\">Make predictions</span>"
   ]
  },
  {
   "cell_type": "code",
   "execution_count": 33,
   "metadata": {},
   "outputs": [],
   "source": [
    "def predict(review, vocab=word2ind, model=model):\n",
    "    \n",
    "    preprocessed = preprocess(review, \n",
    "                              lowercase=True, \n",
    "                              remove_punct=True, \n",
    "                              remove_stopwords=True)\n",
    "    \n",
    "    inputs = make_padded_inputs(preprocessed, vocab)\n",
    "    pred_loader = torch.utils.data.DataLoader(torch.from_numpy(inputs), batch_size=1)\n",
    "    \n",
    "    model=model\n",
    "    model.eval()\n",
    "    \n",
    "    for x in pred_loader:\n",
    "        output = model(x).item()\n",
    "    \n",
    "    return \"This review is positive\" if output >= 0.5 else \"This review is negative\"\n",
    "\n",
    "    \n",
    "    \n",
    "    "
   ]
  },
  {
   "cell_type": "code",
   "execution_count": 34,
   "metadata": {
    "scrolled": true
   },
   "outputs": [
    {
     "name": "stdout",
     "output_type": "stream",
     "text": [
      "Review text: All I can say is, this movie is made for the Lifetime Channel on TV, which means no solid characters, no particular style, weak acting all kinds of suggested sex but no-breasts and tushs (because boy, that would just catapult the film into the depths of sleaze wouldn't it?) but the heavily simulated sex, well, that's OK.  Don't bore yourself to death like I did. Seek out some real TV movies on HBO, Showtime, IFC, Starz, etc. Any channel that puts effort into their work and doesn't have to ask a priest what they can or cannot show. \n",
      " 0\n"
     ]
    },
    {
     "data": {
      "text/plain": [
       "'This review is negative'"
      ]
     },
     "execution_count": 34,
     "metadata": {},
     "output_type": "execute_result"
    }
   ],
   "source": [
    "review = test_x_raw[871]\n",
    "print(f\"Review text: {review}\", '\\n', test_y[871])\n",
    "predict(review)"
   ]
  },
  {
   "cell_type": "code",
   "execution_count": 35,
   "metadata": {},
   "outputs": [
    {
     "name": "stdout",
     "output_type": "stream",
     "text": [
      "Very strange screenplay by Cameron Crowe (following on the heels of his \"Fast Times at Ridgemont High\") has little inspiration and flails away at dumb gags. At least \"Fast Times\" had a fair share of satire and sensitivity behind its slapstick (courtesy of a good director, Amy Heckerling, and Crowe's undeniable penchant for capturing letter-perfect teen-speak); here, Chris Penn (Sean's brother, natch) is the goof-off who makes life hell for straight arrow Eric Stoltz, and the filmmakers seem to think he's hilarious. Jenny Wright has some good moments as a mall-worker, but Illan Mitchell-Smith is lost in a head-scratching subplot about a teen who seems to be infatuated with a shell-shocked ex-soldier. Queasy, confused nonsense given a shiny sheen and a soundtrack full of pop-rock tunes, but characters one would hope to avoid. Supporting players Lea Thompson, Rick Moranis, Lee Ving, and Sherilyn Fenn are wasted in stupid roles. * from **** \n",
      " 0\n"
     ]
    },
    {
     "data": {
      "text/plain": [
       "'This review is negative'"
      ]
     },
     "execution_count": 35,
     "metadata": {},
     "output_type": "execute_result"
    }
   ],
   "source": [
    "review2 = test_x_raw[259]\n",
    "print(review2, '\\n', test_y[259])\n",
    "predict(review2)"
   ]
  },
  {
   "cell_type": "code",
   "execution_count": 47,
   "metadata": {},
   "outputs": [
    {
     "data": {
      "text/plain": [
       "'This review is positive'"
      ]
     },
     "execution_count": 47,
     "metadata": {},
     "output_type": "execute_result"
    }
   ],
   "source": [
    "predict(\"Fantastic film.\")"
   ]
  },
  {
   "cell_type": "code",
   "execution_count": 37,
   "metadata": {},
   "outputs": [
    {
     "data": {
      "text/plain": [
       "'This review is negative'"
      ]
     },
     "execution_count": 37,
     "metadata": {},
     "output_type": "execute_result"
    }
   ],
   "source": [
    "predict(\"The movie was not good.\")"
   ]
  },
  {
   "cell_type": "markdown",
   "metadata": {},
   "source": [
    "## <span style=\"color:teal\">Make the test set and test the model</span>"
   ]
  },
  {
   "cell_type": "code",
   "execution_count": 38,
   "metadata": {},
   "outputs": [],
   "source": [
    "test_words = [preprocess(review, \n",
    "                      lowercase=True, \n",
    "                      remove_punct=True,\n",
    "                      remove_stopwords=True\n",
    "                     ) \n",
    "           for review in test_x_raw]"
   ]
  },
  {
   "cell_type": "code",
   "execution_count": 39,
   "metadata": {},
   "outputs": [],
   "source": [
    "test_x = make_padded_inputs(test_words, word2ind)"
   ]
  },
  {
   "cell_type": "code",
   "execution_count": 40,
   "metadata": {},
   "outputs": [
    {
     "name": "stdout",
     "output_type": "stream",
     "text": [
      "[  10 1157   18  863  513 1657   63   50   52  364  244  106  920 6491\n",
      "    1  470  331  203 3613 4167    1 2708  280   99  226 1673  188  238\n",
      " 5938 1847    1   87 2953    1    1 1386  417  231 3141 1058 6361  557\n",
      "   55    3  808  187 1657   63   50   52  364   10    3 2451 1204 1077\n",
      " 1344  354  383  186    8 1536  476  354]\n"
     ]
    }
   ],
   "source": [
    "print(test_x[10])\n",
    "\n",
    "assert (len(test_words[10]) == np.count_nonzero(test_x[10])) or (64 == np.count_nonzero(test_x[10]))"
   ]
  },
  {
   "cell_type": "code",
   "execution_count": 41,
   "metadata": {},
   "outputs": [],
   "source": [
    "test_dataset = torch.utils.data.TensorDataset(torch.from_numpy(test_x), torch.from_numpy(test_y))\n",
    "test_loader = torch.utils.data.DataLoader(test_dataset, batch_size=batch_size)"
   ]
  },
  {
   "cell_type": "code",
   "execution_count": 42,
   "metadata": {},
   "outputs": [],
   "source": [
    "def test_accuracy(test_loader=test_loader,\n",
    "                  model=model,\n",
    "                  accuracy_f=accuracy\n",
    "                 ):\n",
    "    \n",
    "    model=model\n",
    "    total_acc = 0\n",
    "\n",
    "    model.eval()\n",
    "    for inputs, labels in test_loader:\n",
    "        output = model(inputs)\n",
    "        acc = accuracy(output, labels)\n",
    "        total_acc += acc.item()\n",
    "    \n",
    "    return total_acc / len(test_loader)\n",
    "        "
   ]
  },
  {
   "cell_type": "code",
   "execution_count": 44,
   "metadata": {},
   "outputs": [],
   "source": [
    "#test_acc = test_accuracy()\n",
    "#print(test_acc)"
   ]
  }
 ],
 "metadata": {
  "kernelspec": {
   "display_name": "Python 3",
   "language": "python",
   "name": "python3"
  },
  "language_info": {
   "codemirror_mode": {
    "name": "ipython",
    "version": 3
   },
   "file_extension": ".py",
   "mimetype": "text/x-python",
   "name": "python",
   "nbconvert_exporter": "python",
   "pygments_lexer": "ipython3",
   "version": "3.8.5"
  }
 },
 "nbformat": 4,
 "nbformat_minor": 4
}
