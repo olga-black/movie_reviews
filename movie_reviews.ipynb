{
 "cells": [
  {
   "cell_type": "markdown",
   "metadata": {},
   "source": [
    "# <span style=\"color:turquoise\">Text classification with pytorch</span>\n",
    "\n",
    "\n",
    "An example of using natural language processing for sentiment analysis. <br> Building a binary classifier of movie reviews that will predict if a review is positive or negative.\n",
    "\n",
    "\n",
    "\n",
    "\n",
    "__Dataset:__ IMDB movie reviews from Kaggle<br>\n",
    "__Model:__ LSTM\n"
   ]
  },
  {
   "cell_type": "markdown",
   "metadata": {},
   "source": [
    "### <span style=\"color:teal\">Todo:</span>\n",
    "\n",
    "- ~~Read dataset~~\n",
    "- ~~Preprocess text~~\n",
    "- ~~Split into train, validation, and test sets~~\n",
    "- ~~Convert text to indices and add paddings~~\n",
    "- ~~Make model~~\n",
    "- ~~Make training function~~\n",
    "- ~~Make evaluation function~~\n",
    "- ~~Train~~\n",
    "- Evaluate on test set\n",
    "- Run inference"
   ]
  },
  {
   "cell_type": "code",
   "execution_count": 1,
   "metadata": {},
   "outputs": [
    {
     "name": "stderr",
     "output_type": "stream",
     "text": [
      "/usr/local/lib/python3.8/dist-packages/torch/cuda/__init__.py:52: UserWarning: CUDA initialization: Found no NVIDIA driver on your system. Please check that you have an NVIDIA GPU and installed a driver from http://www.nvidia.com/Download/index.aspx (Triggered internally at  /pytorch/c10/cuda/CUDAFunctions.cpp:100.)\n",
      "  return torch._C._cuda_getDeviceCount() > 0\n"
     ]
    }
   ],
   "source": [
    "import csv\n",
    "import random\n",
    "import numpy as np\n",
    "from collections import Counter\n",
    "\n",
    "from nltk.corpus import stopwords\n",
    "from nltk import word_tokenize\n",
    "from nltk.stem import WordNetLemmatizer\n",
    "import re\n",
    "\n",
    "import torch\n",
    "import torch.nn as nn\n",
    "from torch.optim.lr_scheduler import StepLR\n",
    "\n",
    "import matplotlib.pyplot as plt\n",
    "import time\n",
    "\n",
    "device = torch.device(\"cuda\" if torch.cuda.is_available() else \"cpu\")"
   ]
  },
  {
   "cell_type": "markdown",
   "metadata": {},
   "source": [
    "## <span style=\"color:teal\">Read the data and split it into training, cross-validation, and test sets</span>"
   ]
  },
  {
   "cell_type": "code",
   "execution_count": 2,
   "metadata": {},
   "outputs": [],
   "source": [
    "class Reviews():\n",
    "    \n",
    "    def __init__(self):\n",
    "        self.train = {}\n",
    "        self.val = {}\n",
    "        self.test = {}\n",
    "        self.LABELS = {\"positive\":1, \"negative\": 0}\n",
    "        self.COUNT = {\"positive\": 0, \"negative\": 0}\n",
    "    \n",
    "    \n",
    "    def read_data(self):\n",
    "        \n",
    "        dataset = []\n",
    "        \n",
    "        with open (\"IMDB_Dataset.csv\", newline='') as f:\n",
    "            datareader = csv.reader(f, delimiter=',')\n",
    "            next(datareader, None)\n",
    "\n",
    "            for row in datareader:\n",
    "                dataset.append([row[0], self.LABELS[row[1]]])\n",
    "                self.COUNT[row[1]] += 1\n",
    "            \n",
    "            random.shuffle(dataset)\n",
    "                \n",
    "        return dataset\n",
    "\n",
    "\n",
    "\n",
    "\n",
    "    def split_dataset(self,\n",
    "                      dataset,\n",
    "                      split=[int(50000*0.6), int(50000*0.2), int(50000*0.2)]):\n",
    "        \n",
    "        train, val, test = torch.utils.data.random_split(dataset,\n",
    "                                               split,\n",
    "                                               generator=torch.Generator().manual_seed(43))\n",
    "          \n",
    "            \n",
    "        return train, val, test"
   ]
  },
  {
   "cell_type": "code",
   "execution_count": 3,
   "metadata": {},
   "outputs": [],
   "source": [
    "rev = Reviews()\n",
    "data = rev.read_data()\n",
    "pos_count = rev.COUNT[\"positive\"]\n",
    "neg_count = rev.COUNT[\"negative\"]\n"
   ]
  },
  {
   "cell_type": "code",
   "execution_count": 4,
   "metadata": {},
   "outputs": [
    {
     "name": "stdout",
     "output_type": "stream",
     "text": [
      "[\"I'm not a fan of Adam Sandler. In fact, I don't think I've ever liked him in anything I've seen him in. The opening scene of this movie confirmed my worst fears. There was Adam Sandler, playing a somewhat ridiculous looking character riding around New York City on a motor scooter, looking pitiful and lost. Typical Sandler-type loser character again, I thought. I almost gave up then and there. But then, as I stuck with this, I actually discovered something I never knew before: Adam Sandler can act! He is truly outstanding in this movie as Charlie, a lost and lonely figure, whose entire family (including the dog) was killed in one of the hijacked planes on 9/11 and who has apparently lost all touch with reality as a result. Don Cheadle plays his former college roommate who unexpectedly reconnects with Charlie and takes it on as his mission to help him get better. Of course, Cheadle's Alan Johnson has his own problems and sources of unhappiness, and somehow these two men manage to help each other through their difficulties. The two of them made a completely believable team, and Sandler in particular made Charlie real, working through his emotions and feelings. This is not a Sandler comedy. If your looking for that go to some of his other, sillier, stuff. This is a pretty heavy movie - sometimes sad, sometimes hopeful and always engrossing. There are some funny parts in it. I loved the scene in which Charlie convinces Alan to confront his partners by reminding him of how tough he was in college, and then the conversation the two of them have afterward. I personally didn't think that Saffron Burrows added much to the movie as Donna, an obviously needy patient of Johnson's. The only reason for the character seemed (based on one flashback) to be that she looked eerily like Charlie's late wife, but that was never really developed, and I just didn't care that much for the character. Do look for the part of the judge, however, played by Donald Sutherland, who I thought nailed the part bang-on. As far as I'm concerned, though, this is Sandler's movie, and kudos to him for a great performance. Definitely his best in my opinion. 8/10\", 1]\n"
     ]
    }
   ],
   "source": [
    "print(data[10])"
   ]
  },
  {
   "cell_type": "code",
   "execution_count": 5,
   "metadata": {},
   "outputs": [
    {
     "name": "stdout",
     "output_type": "stream",
     "text": [
      "[\"An EXTREMELY fast paced,exhilarating, interesting, detail rich book. Its a huge shame that the film had none of these qualities. not only was Tom Hanks' mild mannered portrayal or Robert Langdon Laughable, but the name changes to key characters, huge deviances from the original story line, and poor Irish/Italian accent from Carmalengo Played by Ewan Mcgregor, made for the worst book to film EVER. i would recommend reading the book to understand that, if Ron Howard must insist on making ANOTHER book to film, i would be happy saving my £6.40 for a KFC zinger meal and some chicken wings - far more entertaining and deeply more satisfying!\", 0]\n"
     ]
    }
   ],
   "source": [
    "train, val, test = rev.split_dataset(data)\n",
    "print(train[10])"
   ]
  },
  {
   "cell_type": "code",
   "execution_count": 6,
   "metadata": {},
   "outputs": [
    {
     "name": "stdout",
     "output_type": "stream",
     "text": [
      "30000 10000 10000\n"
     ]
    }
   ],
   "source": [
    "print(len(train), len(val), len(test))"
   ]
  },
  {
   "cell_type": "code",
   "execution_count": 7,
   "metadata": {},
   "outputs": [],
   "source": [
    "def split_x_and_y(data):\n",
    "    x = []\n",
    "    y = []\n",
    "    for review, label in data:\n",
    "        x.append(review)\n",
    "        y.append(label)\n",
    "    return x, np.array(y)"
   ]
  },
  {
   "cell_type": "code",
   "execution_count": 8,
   "metadata": {},
   "outputs": [
    {
     "name": "stdout",
     "output_type": "stream",
     "text": [
      "30000 30000\n",
      "Every Saturday morning at 11 a.m. I watched Superstars. All the biggest events happened on this show at the time. Challenge, which aired Sunday mornings, was decent too, but all the big stuff happened on this show. Wrestlers would do all their interviews with Mean Gene on a platform next to the live crowd or talk on their own to the screen in front of a background that promoted them. The matches were usually squashes but sometimes you would see 2 mid carders square off in the main event. There were also interview shows that usually resulted in violence thus setting up a feud. These segments ranged from Pipers Pit, The Body Shop, The Flower Shop, The Snake Pit, The Brother Love Show, The Funeral Parlor, and The Barber Shop. I don't recall any titles changing hands on this show. That usually happened at pay per views and Saturday Nights Main Event. 1\n"
     ]
    }
   ],
   "source": [
    "train_x_raw, train_y = split_x_and_y(train)\n",
    "val_x_raw, val_y = split_x_and_y(val)\n",
    "test_x_raw, test_y = split_x_and_y(test)\n",
    "\n",
    "\n",
    "print(len(train_x_raw), len(train_y))\n",
    "print(train_x_raw[50], train_y[50])"
   ]
  },
  {
   "cell_type": "markdown",
   "metadata": {},
   "source": [
    "## <span style=\"color:teal\">Preprocess text</span>"
   ]
  },
  {
   "cell_type": "code",
   "execution_count": 9,
   "metadata": {},
   "outputs": [],
   "source": [
    "def preprocess(review,\n",
    "               remove_stopwords=False, \n",
    "               remove_html=True, \n",
    "               remove_punct=False, \n",
    "               lowercase=False, \n",
    "               lemmatize=False,\n",
    "               maxlen=128):\n",
    "    \n",
    "    review = re.sub(r\"\\'\", \"'\", review)\n",
    "    review = re.sub(r\"\\x96\", \"-\", review)\n",
    "    \n",
    "    if remove_html:\n",
    "        review = re.sub(r'<.*>', ' ', review)\n",
    "    \n",
    "    review = word_tokenize(review)\n",
    "        \n",
    "    if remove_stopwords:\n",
    "        stop_words = set(stopwords.words(\"english\"))\n",
    "        review = [w for w in review if w not in stop_words]\n",
    "        \n",
    "    if remove_punct:\n",
    "        contractions = [\"'ll\", \"'s\", \"n't\", \"'d\", \"'m\", \"'ve\", \"'re\"]\n",
    "        review = [w for w in review if w.isalnum() or w in contractions]\n",
    "    \n",
    "    if lowercase:\n",
    "        review = [w.lower() for w in review]\n",
    "        \n",
    "    if lemmatize:\n",
    "        lemmatizer = WordNetLemmatizer()\n",
    "        review = [lemmatizer.lemmatize(w) for w in review]\n",
    "    \n",
    "    \n",
    "    return review[:maxlen]\n",
    "    \n"
   ]
  },
  {
   "cell_type": "code",
   "execution_count": 10,
   "metadata": {},
   "outputs": [],
   "source": [
    "train_words = [preprocess(review, \n",
    "                      lowercase=True, \n",
    "                      remove_punct=True,\n",
    "                      remove_stopwords=True\n",
    "                     ) \n",
    "           for review in train_x_raw]\n",
    "\n",
    "val_words = [preprocess(review, \n",
    "                    lowercase=True, \n",
    "                    remove_punct=True,\n",
    "                    remove_stopwords=True\n",
    "                   ) \n",
    "         for review in val_x_raw]"
   ]
  },
  {
   "cell_type": "code",
   "execution_count": 11,
   "metadata": {},
   "outputs": [
    {
     "name": "stdout",
     "output_type": "stream",
     "text": [
      "['this', 'movie', 'disappointment', 'i', 'looking', 'forward', 'seeing', 'good', 'movie', 'i', 'type', 'person', 'starts', 'movie', \"n't\", 'turn', 'end', 'i', 'forcing', 'turn', 'i', 'also', 'agree', 'anthony', 'hopkins', 'needs', 'stick', 'acting', 'by', 'time', 'movie', 'i', \"n't\", 'even', 'get', 'plot', 'i', 'confused', 'annoyed'] \n",
      " ['corey', 'haim', 'never', 'going', 'known', 'one', 'great', 'actors', 'time', 'least', 'movies', 'like', 'licensed', 'to', 'drive', 'element', 'lowbrow', 'humor', 'a', 'somewhat', 'better', 'translation', 'dean', 'koontz', 'book', 'capable', 'thriller', 'phantoms']\n",
      "39 \n",
      " 28\n"
     ]
    }
   ],
   "source": [
    "print(train_words[9592], '\\n', val_words[3029])\n",
    "print(len(train_words[9592]), '\\n', len(val_words[3029]))"
   ]
  },
  {
   "cell_type": "code",
   "execution_count": 12,
   "metadata": {},
   "outputs": [
    {
     "name": "stdout",
     "output_type": "stream",
     "text": [
      "30000\n"
     ]
    }
   ],
   "source": [
    "print(len(train_words))"
   ]
  },
  {
   "cell_type": "markdown",
   "metadata": {},
   "source": [
    "## <span style=\"color:teal\">Convert text to indices and add paddings</span>"
   ]
  },
  {
   "cell_type": "code",
   "execution_count": 13,
   "metadata": {},
   "outputs": [],
   "source": [
    "def make_vocabulary(preprocessed_data, \n",
    "                    vocab_size=15000,\n",
    "                    pad_token='<PAD>',\n",
    "                    unk_token='<UNK>'):\n",
    "    \n",
    "    # Create a vocabulary list of a given size\n",
    "    freqs = {}\n",
    "    for review in preprocessed_data:\n",
    "        for word in review:\n",
    "            freqs[word] = freqs.get(word, 0) + 1\n",
    "            \n",
    "    freqs_list = Counter(freqs).most_common(vocab_size)\n",
    "    \n",
    "    assert len(freqs_list) == vocab_size\n",
    "    \n",
    "    # Create word-index mappings\n",
    "    vocab_list = [pair[0] for pair in freqs_list]\n",
    "    word2ind = {word : i+2 for i, word in enumerate(vocab_list)}\n",
    "    ind2word = {i+2 : word for i, word in enumerate(vocab_list)}\n",
    "    \n",
    "    # Prepend the pad token\n",
    "    word2ind[pad_token] = 0\n",
    "    ind2word[0] = pad_token\n",
    "    \n",
    "    # Prepend the 'unknown' token\n",
    "    word2ind[unk_token] = 1\n",
    "    ind2word[1] = unk_token\n",
    "    \n",
    "    assert len(word2ind) == len(ind2word)\n",
    "\n",
    "    \n",
    "    return word2ind, ind2word\n",
    "  \n",
    "    "
   ]
  },
  {
   "cell_type": "code",
   "execution_count": 14,
   "metadata": {},
   "outputs": [
    {
     "name": "stdout",
     "output_type": "stream",
     "text": [
      "10002 10002\n",
      "2 235\n",
      "grand spring\n"
     ]
    }
   ],
   "source": [
    "word2ind, ind2word = make_vocabulary(train_words, vocab_size=10000)\n",
    "\n",
    "print(len(word2ind), len(ind2word))\n",
    "print(word2ind['i'], word2ind['awful'])\n",
    "print(ind2word[1700], ind2word[3893])"
   ]
  },
  {
   "cell_type": "code",
   "execution_count": 15,
   "metadata": {},
   "outputs": [],
   "source": [
    "del train_x_raw, val_x_raw"
   ]
  },
  {
   "cell_type": "code",
   "execution_count": 16,
   "metadata": {},
   "outputs": [
    {
     "name": "stdout",
     "output_type": "stream",
     "text": [
      "128\n",
      "71.17573333333333\n",
      "128\n",
      "71.2365\n"
     ]
    }
   ],
   "source": [
    "print(np.max([len(x) for x in train_words]))\n",
    "print(np.mean([len(x) for x in train_words]))\n",
    "\n",
    "print(np.max([len(x) for x in val_words]))\n",
    "print(np.mean([len(x) for x in val_words]))"
   ]
  },
  {
   "cell_type": "code",
   "execution_count": 17,
   "metadata": {},
   "outputs": [],
   "source": [
    "def make_padded_inputs(preprocessed_data, \n",
    "                       vocab, \n",
    "                       padded_length=64,\n",
    "                       pad_token='<PAD>',\n",
    "                       unk_token='<UNK>'):\n",
    "    \n",
    "    num_lines = len(preprocessed_data)\n",
    "    pad = vocab[pad_token]\n",
    "    \n",
    "    inputs = np.full((num_lines, padded_length), pad)\n",
    "    \n",
    "    for i, review in enumerate(preprocessed_data):\n",
    "        start_position = padded_length - len(review)\n",
    "        for j, word in enumerate(review):\n",
    "            inputs[i, (start_position + j)] = vocab.get(word, vocab[unk_token])       \n",
    "    return inputs\n",
    "            "
   ]
  },
  {
   "cell_type": "code",
   "execution_count": 18,
   "metadata": {},
   "outputs": [
    {
     "name": "stdout",
     "output_type": "stream",
     "text": [
      "Training example at indices 5 and 6:\n",
      "[['simply', 'put', 'oliver', 'one', 'greatest', 'musicals', 'time', 'it', 'filled', 'memorable', 'songs', 'food', 'glorious', 'food', 'oliver', 'consider', 'yourself', 'name', 'equally', 'memorable', 'characters', 'the', 'film', 'shot', 'solely', 'studios', 'soundstages', 'shepperton', 'film', 'studios', 'translate', 'film', 'the', 'sets', 'perfectly', 'replicate', 'victorian', 'london', 'costumes', 'worn', 'characters', 'a', 'winner', 'massive', 'success', 'release', 'oliver', 'worthy', 'contender', 'best', 'musical', 'time', 'delight', 'anyone', 'loves', 'film'], ['what', 'i', \"'ve\", 'seen', 'wolfgang', 'petersen', \"'s\", 'films', 'pretty', 'good', 'he', 'knows', 'direct', 'action', 'create', 'suspense', 'get', 'interested', 'eastwood', 'tends', 'great', 'sometimes', 'excellent', 'this', 'goes', 'acting', 'directing', 'they', 'hand', 'solid', 'work', 'the', 'concept', \"n't\", 'bad', 'game', 'works', 'well', 'malkovich', 'performs', 'rather', 'well', 'eastwood', \"'s\", 'playing', 'adds', 'film', 'i', 'suppose', 'wo', \"n't\", 'introduce', 'anything', 'new', 'really', 'never', 'really', 'claims', 'needs', 'it', \"'s\", 'two', 'great', 'actors', 'playing', 'basic', 'type', 'role', 'proved', 'points', 'careers', 'manage', 'remarkably', 'well', 'magnificent', 'director', 'helm', 'really', \"'s\", 'entertaining', 'plain', 'delivers', 'editing', 'cinematography', 'good', 'acting', 'character', 'writing', 'well', 'the', 'film', 'manages', 'suspenseful', 'intense', 'let', 'probably', 'entertained', 'engaged', 'even', 'superior', 'films', 'the', 'pacing', 'pretty', 'much', 'i', 'recommend', 'fan', 'principal', 'actors', 'director', 'type', 'film']]\n",
      "\n",
      "    Converted to indices:\n",
      "[[   0    0    0    0    0    0    0    0  262  197 2482    8  607 2816\n",
      "    14   10 1093  875  653 1684 3988 1684 2482  980    1  301 1393  875\n",
      "    44    5    6  285 4138 2065    1    1    6 2065 5414    6    5  771\n",
      "   942    1 5706 1107 1223 4920   44   42 2135 2651  887  590 2482 1354\n",
      "  9568   38  591   14 2722  132 1280    6]\n",
      " [ 403    7 4747  151   87   16   45   16 2574  705   10    3   51   19\n",
      "    69  354 1031  473  154 2048  754 3505 2036 4549   21 1871   80    1\n",
      "    16    3  276  873 1456  789  561   12   41   58  372   21    5    6\n",
      "  1001 2121 1428  191  140 1872 3340   17 1560   33    5 1685   95   24\n",
      "     2  186  164 4550   69   80  473    6]]\n",
      "\n",
      "56 56\n"
     ]
    }
   ],
   "source": [
    "train_x = make_padded_inputs(train_words, word2ind)\n",
    "val_x = make_padded_inputs(val_words, word2ind)\n",
    "\n",
    "\n",
    "print(f\"\"\"Training example at indices 5 and 6:\\n{train_words[5:7]}\\n\n",
    "    Converted to indices:\\n{train_x[5:7, :]}\\n\"\"\")\n",
    "\n",
    "print(len(train_words[5]), np.count_nonzero(train_x[5]))\n",
    "\n",
    "assert (len(train_words[5]) == np.count_nonzero(train_x[5])) or (64 == np.count_nonzero(train_x[5]))"
   ]
  },
  {
   "cell_type": "markdown",
   "metadata": {},
   "source": [
    "## <span style=\"color:teal\">Load data into torch</span>"
   ]
  },
  {
   "cell_type": "code",
   "execution_count": 19,
   "metadata": {},
   "outputs": [],
   "source": [
    "train_dataset = torch.utils.data.TensorDataset(torch.from_numpy(train_x), torch.from_numpy(train_y))\n",
    "val_dataset = torch.utils.data.TensorDataset(torch.from_numpy(val_x), torch.from_numpy(val_y))"
   ]
  },
  {
   "cell_type": "code",
   "execution_count": 20,
   "metadata": {},
   "outputs": [],
   "source": [
    "batch_size = 32\n",
    "\n",
    "train_loader = torch.utils.data.DataLoader(train_dataset, batch_size=batch_size)\n",
    "val_loader = torch.utils.data.DataLoader(val_dataset, batch_size=batch_size)"
   ]
  },
  {
   "cell_type": "code",
   "execution_count": 21,
   "metadata": {},
   "outputs": [
    {
     "name": "stdout",
     "output_type": "stream",
     "text": [
      "tensor([[   0,    0,    0,    0,    0,    0,    0,    0,    0,    0,    0,    0,\n",
      "            0,    0,    0,    0,    0,    0,    0,    0,    0,    0,    0,    0,\n",
      "            0,    0,    0,    0,    0,    0,    0,    0,  115, 2395,  810,  215,\n",
      "          135,  575,   65,    2,   55, 5705,  164, 4677,    1, 7354, 5166, 4303,\n",
      "           66,  940,  156,  523,   38, 3092,    1,    3,   66,  492,  103, 5246,\n",
      "          543,   25,    1, 2447],\n",
      "        [   0,    0,    0,    0,    0,    0,    0,    0,    0,    0,    0,    0,\n",
      "            0,    0,    0,    0,    0,  182,    2,   26,   76,  960,   65,  370,\n",
      "            2,  960,    2,   88, 6836,    2,   61, 3885,    2,   57,   34, 3373,\n",
      "            2,  312,    1,  211,  213,  151,  233, 1638,  175, 3032,  123,  646,\n",
      "            1,    1,  660,  658,  382,   24,   48,  660, 2536,  291,   10,   13,\n",
      "           19,  270,  258,    4],\n",
      "        [   0,    0,    0,    0,    0,    0,    0,    0,    0,    0,    0,    0,\n",
      "            0,    0,    0,    0,    0,    0,    0,    0,    0,    0,    0,    0,\n",
      "            0,    0,    0,    0,   42,  167,   53,    1, 6700, 2215, 3933,  124,\n",
      "          866,    5, 6700, 2215, 3542, 2412, 4424,    1, 5167, 2412, 3542,   79,\n",
      "         2412,   79,    1,  221,    9,  952,    1,  149,  573, 1080,  125,   17,\n",
      "            8,  769, 1380,   10],\n",
      "        [   0,    0,    0,    0,    0,    0,    0,    0,    0,    0,    0,    0,\n",
      "            0,    0,    2,  148, 1187, 1157, 2609,    3,    4,  208, 1923,   13,\n",
      "          988,    8,    3,   26,  994, 2650,    1,    1,   12, 3147,    1,   43,\n",
      "           14,  246,  203,   98,  139,    1,  551,    1, 3412, 3758, 2740,  387,\n",
      "            5, 3624,  156,   16,   22,  500,   21,  471, 2815, 2785,  723, 1014,\n",
      "           22,  476, 1292,  715],\n",
      "        [   0,    0,    0,    0,    0,    0,    0,    0,    0,    0,    0,    0,\n",
      "            0,    0,    0,    0,    0,    0,    0,    0,    0,    0,    0,    0,\n",
      "            0,    0,    0,    0,    0,    0,    0,    0,    0,    0,    0,    0,\n",
      "            0,    0,    2,  148,    6, 2495, 1083, 2169,  371,  472,  371,  472,\n",
      "           66,  579, 2448,  639,  246,  342, 1045,  234,  260,    6,   84, 1052,\n",
      "         1059,  431,   28, 8198]]) \n",
      " tensor([0, 0, 0, 1, 0])\n"
     ]
    }
   ],
   "source": [
    "print(list(train_loader)[0][0][:5], '\\n', list(train_loader)[0][1][:5],)"
   ]
  },
  {
   "cell_type": "code",
   "execution_count": 22,
   "metadata": {},
   "outputs": [
    {
     "name": "stdout",
     "output_type": "stream",
     "text": [
      "[['may', 'contain', 'spoilers', 'for', 'last', 'four', 'years', 'i', \"'ve\", 'keen', 'fan', 'ali', 'sacha', 'baron', 'cohen', 'undoubtedly', 'funny', 'intelligent', 'guy', 'view', 'best', 'creation', 'borat', \"'s\", 'funny', 'hell', 'quite', 'shameless', 'says', 'people', 'canberra', 'australia']]\n",
      "32\n",
      "0\n"
     ]
    }
   ],
   "source": [
    "print(train_words[:1])\n",
    "print(len(train_words[0]))\n",
    "print(train_y[0])"
   ]
  },
  {
   "cell_type": "code",
   "execution_count": 23,
   "metadata": {},
   "outputs": [],
   "source": [
    "class SentimentClassifier(nn.Module):\n",
    "    \n",
    "    def __init__(self, \n",
    "                 vocab_size, \n",
    "                 d_feature, \n",
    "                 num_layers, \n",
    "                 hidden_size,\n",
    "                 n_outputs,\n",
    "                 bidirectional=False,\n",
    "                 dropout_rate=0.001):\n",
    "        \n",
    "        super().__init__()\n",
    "        \n",
    "        self.embedding = nn.Embedding(vocab_size, d_feature)\n",
    "        self.dropout = nn.Dropout(p=dropout_rate)\n",
    "        self.lstm = nn.LSTM(input_size=d_feature,\n",
    "                           hidden_size=hidden_size,\n",
    "                           num_layers=num_layers,\n",
    "                           bidirectional=bidirectional,\n",
    "                           batch_first=True)\n",
    "        self.fc = nn.Linear(hidden_size, n_outputs)\n",
    "        self.sigmoid = nn.Sigmoid()\n",
    "        \n",
    "        \n",
    "    def forward(self, input_data): \n",
    "        \n",
    "        embedded = self.dropout(self.embedding(input_data))\n",
    "        lstm_out, _ = self.lstm(embedded)\n",
    "        fc = self.fc(lstm_out[:,-1,:])\n",
    "        sigmoid = self.sigmoid(fc)\n",
    "   \n",
    "        return sigmoid\n",
    "    "
   ]
  },
  {
   "cell_type": "code",
   "execution_count": 24,
   "metadata": {},
   "outputs": [
    {
     "name": "stdout",
     "output_type": "stream",
     "text": [
      "SentimentClassifier(\n",
      "  (embedding): Embedding(10002, 64)\n",
      "  (dropout): Dropout(p=0.001, inplace=False)\n",
      "  (lstm): LSTM(64, 128, num_layers=2, batch_first=True)\n",
      "  (fc): Linear(in_features=128, out_features=1, bias=True)\n",
      "  (sigmoid): Sigmoid()\n",
      ")\n"
     ]
    }
   ],
   "source": [
    "vocab_size = len(word2ind)\n",
    "d_feature = 64\n",
    "hidden_size = 128\n",
    "n_outputs = 1\n",
    "num_layers = 2\n",
    "\n",
    "model = SentimentClassifier(\n",
    "                            vocab_size=vocab_size, \n",
    "                            d_feature=d_feature,  \n",
    "                            num_layers=num_layers, \n",
    "                            hidden_size=hidden_size, \n",
    "                            n_outputs=n_outputs).to(device)\n",
    "\n",
    "print(model)"
   ]
  },
  {
   "cell_type": "markdown",
   "metadata": {},
   "source": [
    "## <span style=\"color:teal\">Train model</span>"
   ]
  },
  {
   "cell_type": "code",
   "execution_count": 25,
   "metadata": {},
   "outputs": [],
   "source": [
    "def accuracy(outputs, targets):\n",
    "    outputs = torch.flatten(outputs)\n",
    "    assert outputs.shape == targets.shape\n",
    "    predicted = torch.where(outputs>=0.5, 1, 0)\n",
    "    accuracy = torch.Tensor.float(predicted==targets).mean()\n",
    "    return accuracy"
   ]
  },
  {
   "cell_type": "code",
   "execution_count": 26,
   "metadata": {},
   "outputs": [],
   "source": [
    "def train_model(train_loader=train_loader,\n",
    "             val_loader=val_loader,\n",
    "             model=model,\n",
    "             criterion=nn.BCELoss(),\n",
    "             n_epochs=6):\n",
    "    \n",
    "    start_time = time.time()\n",
    "    \n",
    "    train_losses = []\n",
    "    val_losses = []\n",
    "    accs = []\n",
    "    val_accs = []\n",
    "    \n",
    "    for epoch in range(n_epochs):\n",
    "        total_loss = 0\n",
    "        total_loss_val = 0\n",
    "        total_acc = 0\n",
    "        total_acc_val = 0\n",
    "        \n",
    "        model.train()\n",
    "        \n",
    "        for inputs, labels in train_loader: \n",
    "            optimizer= torch.optim.Adam(model.parameters(), lr=0.001)\n",
    "            scheduler= StepLR(optimizer, step_size=n_epochs//2, gamma=0.1)\n",
    "            optimizer.zero_grad()\n",
    "            output = model(inputs)\n",
    "            loss = criterion(output.squeeze(), labels.float())\n",
    "            acc = accuracy(output, labels)\n",
    "            loss.backward()\n",
    "            nn.utils.clip_grad_norm_(model.parameters(), max_norm=2.0, norm_type=2)\n",
    "            optimizer.step()\n",
    "            total_loss += loss.item()\n",
    "            total_acc += acc.item()\n",
    "            \n",
    "        train_losses.append(total_loss/len(train_loader))\n",
    "        accs.append(total_acc/len(train_loader))\n",
    "        model.eval()\n",
    "        \n",
    "        \n",
    "        for val_inputs, val_labels in val_loader:\n",
    "            val_output = model(val_inputs)\n",
    "            val_loss = criterion(val_output.squeeze(), val_labels.float())\n",
    "            val_acc = accuracy(val_output, val_labels)\n",
    "            total_loss_val += val_loss.item()\n",
    "            total_acc_val += val_acc.item()\n",
    "            \n",
    "            \n",
    "        val_losses.append(total_loss_val/len(val_loader))\n",
    "        val_accs.append(total_acc_val/len(val_loader))\n",
    "        \n",
    "        scheduler.step()\n",
    "        \n",
    "        print(f\"Epoch: {epoch+1}/{ n_epochs}\\t\",\n",
    "              f\"{((time.time() - start_time) / 60):.2f} min\\t\",\n",
    "              f\"Loss: {total_loss/len(train_loader):.3f}\\t\",\n",
    "              f\"Val Loss: {total_loss_val/len(val_loader):.3f}\\t\",\n",
    "              f\"Acc: {total_acc/len(train_loader):.3f}\\t\",\n",
    "              f\"Val Acc: {total_acc_val/len(val_loader):.3f}\")\n",
    "            \n",
    "    print(f\"Training completed in {(time.time() - start_time) / 60} min.\")\n",
    "    \n",
    "    return accs, val_accs, train_losses, val_losses\n",
    "    "
   ]
  },
  {
   "cell_type": "code",
   "execution_count": 27,
   "metadata": {
    "scrolled": true
   },
   "outputs": [
    {
     "name": "stdout",
     "output_type": "stream",
     "text": [
      "Epoch: 1/10\t 1.28 min\t Loss: 0.603\t Val Loss: 0.508\t Acc: 0.672\t Val Acc: 0.756\n",
      "Epoch: 2/10\t 2.60 min\t Loss: 0.486\t Val Loss: 0.442\t Acc: 0.771\t Val Acc: 0.793\n",
      "Epoch: 3/10\t 3.89 min\t Loss: 0.438\t Val Loss: 0.423\t Acc: 0.804\t Val Acc: 0.801\n",
      "Epoch: 4/10\t 5.19 min\t Loss: 0.412\t Val Loss: 0.416\t Acc: 0.817\t Val Acc: 0.811\n",
      "Epoch: 5/10\t 6.50 min\t Loss: 0.391\t Val Loss: 0.402\t Acc: 0.828\t Val Acc: 0.816\n",
      "Epoch: 6/10\t 7.80 min\t Loss: 0.377\t Val Loss: 0.400\t Acc: 0.836\t Val Acc: 0.819\n",
      "Epoch: 7/10\t 9.11 min\t Loss: 0.361\t Val Loss: 0.413\t Acc: 0.849\t Val Acc: 0.813\n",
      "Epoch: 8/10\t 10.42 min\t Loss: 0.346\t Val Loss: 0.409\t Acc: 0.858\t Val Acc: 0.814\n",
      "Epoch: 9/10\t 11.74 min\t Loss: 0.331\t Val Loss: 0.412\t Acc: 0.863\t Val Acc: 0.815\n",
      "Epoch: 10/10\t 13.05 min\t Loss: 0.318\t Val Loss: 0.421\t Acc: 0.872\t Val Acc: 0.807\n",
      "Training completed in 13.051965645949046 min.\n"
     ]
    }
   ],
   "source": [
    "accs, val_accs, train_losses, val_losses = train_model(n_epochs=10)"
   ]
  },
  {
   "cell_type": "code",
   "execution_count": 28,
   "metadata": {},
   "outputs": [],
   "source": [
    "def plot_losses(train_losses, val_losses):\n",
    "    plt.figure(figsize=(10,5))\n",
    "    plt.title(\"Training and Validation Loss\")\n",
    "    plt.plot(val_losses, label=\"val\")\n",
    "    plt.plot(train_losses, label=\"train\")\n",
    "    plt.xlabel(\"Iterations\")\n",
    "    plt.ylabel(\"Loss\")\n",
    "    plt.legend()\n",
    "    plt.show()"
   ]
  },
  {
   "cell_type": "code",
   "execution_count": 29,
   "metadata": {},
   "outputs": [],
   "source": [
    "def plot_accuracies(accuracies, val_accuracies):\n",
    "    plt.figure(figsize=(10,5))\n",
    "    plt.title(\"Training and Validation Accuracies\")\n",
    "    plt.plot(val_accuracies, label=\"val\")\n",
    "    plt.plot(accuracies, label=\"train\")\n",
    "    plt.xlabel(\"Iterations\")\n",
    "    plt.ylabel(\"Accuracy\")\n",
    "    plt.legend()\n",
    "    plt.show()"
   ]
  },
  {
   "cell_type": "code",
   "execution_count": 30,
   "metadata": {},
   "outputs": [
    {
     "data": {
      "image/png": "[encoded data removed]",
      "text/plain": [
       "<Figure size 720x360 with 1 Axes>"
      ]
     },
     "metadata": {
      "needs_background": "light"
     },
     "output_type": "display_data"
    },
    {
     "data": {
      "image/png": "[encoded data removed]",
      "text/plain": [
       "<Figure size 720x360 with 1 Axes>"
      ]
     },
     "metadata": {
      "needs_background": "light"
     },
     "output_type": "display_data"
    }
   ],
   "source": [
    "plot_losses(train_losses, val_losses)\n",
    "plot_accuracies(accs, val_accs)\n",
    "# 10 epochs, vocab_size=10000, batch_size=32, embedding_size=64, hidden_size=128, dropout=0.5\n",
    "# gradient clipping: max_norm=2, norm_type=2\n",
    "# decaying lr 0.001  > 0.0001"
   ]
  },
  {
   "cell_type": "code",
   "execution_count": null,
   "metadata": {},
   "outputs": [],
   "source": []
  }
 ],
 "metadata": {
  "kernelspec": {
   "display_name": "Python 3",
   "language": "python",
   "name": "python3"
  },
  "language_info": {
   "codemirror_mode": {
    "name": "ipython",
    "version": 3
   },
   "file_extension": ".py",
   "mimetype": "text/x-python",
   "name": "python",
   "nbconvert_exporter": "python",
   "pygments_lexer": "ipython3",
   "version": "3.8.5"
  }
 },
 "nbformat": 4,
 "nbformat_minor": 4
}
