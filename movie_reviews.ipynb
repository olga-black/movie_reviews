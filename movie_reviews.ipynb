{
 "cells": [
  {
   "cell_type": "markdown",
   "metadata": {},
   "source": [
    "# <span style=\"color:turquoise\">Text classification with pytorch</span>\n",
    "\n",
    "\n",
    "An example of using natural language processing for sentiment analysis. <br> Building a binary classifier of movie reviews that will predict if a review is positive or negative.\n",
    "\n",
    "\n",
    "\n",
    "\n",
    "__Dataset:__ IMDB movie reviews from Kaggle<br>\n",
    "__Model:__ LSTM\n"
   ]
  },
  {
   "cell_type": "code",
   "execution_count": 1,
   "metadata": {},
   "outputs": [
    {
     "name": "stderr",
     "output_type": "stream",
     "text": [
      "/usr/local/lib/python3.8/dist-packages/torch/cuda/__init__.py:52: UserWarning: CUDA initialization: Found no NVIDIA driver on your system. Please check that you have an NVIDIA GPU and installed a driver from http://www.nvidia.com/Download/index.aspx (Triggered internally at  /pytorch/c10/cuda/CUDAFunctions.cpp:100.)\n",
      "  return torch._C._cuda_getDeviceCount() > 0\n"
     ]
    }
   ],
   "source": [
    "import csv\n",
    "import random\n",
    "import numpy as np\n",
    "from collections import Counter\n",
    "\n",
    "from nltk.corpus import stopwords\n",
    "from nltk import word_tokenize\n",
    "from nltk.stem import WordNetLemmatizer\n",
    "import re\n",
    "\n",
    "import torch\n",
    "import torch.nn as nn\n",
    "from torch.optim.lr_scheduler import StepLR\n",
    "\n",
    "import matplotlib.pyplot as plt\n",
    "import time\n",
    "\n",
    "device = torch.device(\"cuda\" if torch.cuda.is_available() else \"cpu\")"
   ]
  },
  {
   "cell_type": "markdown",
   "metadata": {},
   "source": [
    "## <span style=\"color:teal\">Read the data and split it into training, cross-validation, and test sets</span>"
   ]
  },
  {
   "cell_type": "code",
   "execution_count": 2,
   "metadata": {},
   "outputs": [],
   "source": [
    "class Reviews():\n",
    "    \n",
    "    def __init__(self):\n",
    "        self.train = {}\n",
    "        self.val = {}\n",
    "        self.test = {}\n",
    "        self.LABELS = {\"positive\":1, \"negative\": 0}\n",
    "        self.COUNT = {\"positive\": 0, \"negative\": 0}\n",
    "    \n",
    "    \n",
    "    def read_data(self):\n",
    "        \n",
    "        dataset = []\n",
    "        \n",
    "        with open (\"IMDB_Dataset.csv\", newline='') as f:\n",
    "            datareader = csv.reader(f, delimiter=',')\n",
    "            next(datareader, None)\n",
    "\n",
    "            for row in datareader:\n",
    "                dataset.append([row[0], self.LABELS[row[1]]])\n",
    "                self.COUNT[row[1]] += 1\n",
    "            \n",
    "            random.shuffle(dataset)\n",
    "                \n",
    "        return dataset\n",
    "\n",
    "\n",
    "\n",
    "\n",
    "    def split_dataset(self,\n",
    "                      dataset,\n",
    "                      split=[int(50000*0.6), int(50000*0.2), int(50000*0.2)]):\n",
    "        \n",
    "        train, val, test = torch.utils.data.random_split(dataset,\n",
    "                                               split,\n",
    "                                               generator=torch.Generator().manual_seed(43))\n",
    "          \n",
    "            \n",
    "        return train, val, test"
   ]
  },
  {
   "cell_type": "code",
   "execution_count": 3,
   "metadata": {},
   "outputs": [],
   "source": [
    "rev = Reviews()\n",
    "data = rev.read_data()\n",
    "pos_count = rev.COUNT[\"positive\"]\n",
    "neg_count = rev.COUNT[\"negative\"]\n"
   ]
  },
  {
   "cell_type": "code",
   "execution_count": 4,
   "metadata": {},
   "outputs": [
    {
     "name": "stdout",
     "output_type": "stream",
     "text": [
      "[\"For one thing, he produced this movie. It has the feel of later movies with international casts that are dubbed. The opening credits tell us it was filmed in Vienna. This isn't terrible but it's pretty heavy going.\", 0]\n"
     ]
    }
   ],
   "source": [
    "print(data[10])"
   ]
  },
  {
   "cell_type": "code",
   "execution_count": 5,
   "metadata": {},
   "outputs": [
    {
     "name": "stdout",
     "output_type": "stream",
     "text": [
      "['Ronald Colman won a Best Actor Oscar for showy performance as a popular stage thespian who completely loses himself in his roles, particularly as Shakespeare\\'s Othello. Critically-lauded George Cukor film has a marvelous pedigree, having been written by the estimable team of Ruth Gordon and Garson Kanin. Unfortunately, the witty banter comes off as self-conscious here, and the backstage business is overripe. Miklós Rózsa also won an Oscar for his score, and Shelley Winters has a few fine moments a tough waitress (when theatrical Colman breathlessly addresses her, she asks him, \"What are ya? Some kind of nut?\"). Otherwise, this scenario is awfully obvious, surprisingly draggy, and not very funny. *1/2 from ****', 0]\n"
     ]
    }
   ],
   "source": [
    "train, val, test = rev.split_dataset(data)\n",
    "print(train[10])"
   ]
  },
  {
   "cell_type": "code",
   "execution_count": 6,
   "metadata": {},
   "outputs": [
    {
     "name": "stdout",
     "output_type": "stream",
     "text": [
      "30000 10000 10000\n"
     ]
    }
   ],
   "source": [
    "print(len(train), len(val), len(test))"
   ]
  },
  {
   "cell_type": "code",
   "execution_count": 7,
   "metadata": {},
   "outputs": [],
   "source": [
    "def split_x_and_y(data):\n",
    "    x = []\n",
    "    y = []\n",
    "    for review, label in data:\n",
    "        x.append(review)\n",
    "        y.append(label)\n",
    "    return x, np.array(y)"
   ]
  },
  {
   "cell_type": "code",
   "execution_count": 8,
   "metadata": {},
   "outputs": [
    {
     "name": "stdout",
     "output_type": "stream",
     "text": [
      "30000 30000\n",
      "15031 4967 5002\n"
     ]
    }
   ],
   "source": [
    "train_x_raw, train_y = split_x_and_y(train)\n",
    "val_x_raw, val_y = split_x_and_y(val)\n",
    "test_x_raw, test_y = split_x_and_y(test)\n",
    "\n",
    "\n",
    "print(len(train_x_raw), len(train_y))\n",
    "#print(train_x_raw[50], train_y[50])\n",
    "\n",
    "# Check if datasets are balanced - how many positive reviews in each\n",
    "print(np.count_nonzero(train_y), np.count_nonzero(val_y), np.count_nonzero(test_y))"
   ]
  },
  {
   "cell_type": "markdown",
   "metadata": {},
   "source": [
    "## <span style=\"color:teal\">Preprocess text</span>"
   ]
  },
  {
   "cell_type": "code",
   "execution_count": 9,
   "metadata": {},
   "outputs": [],
   "source": [
    "def preprocess(review,\n",
    "               remove_stopwords=False, \n",
    "               remove_html=True, \n",
    "               remove_punct=False, \n",
    "               lowercase=False, \n",
    "               lemmatize=False,\n",
    "               maxlen=None):\n",
    "    \n",
    "    review = re.sub(r\"\\'\", \"'\", review)\n",
    "    review = re.sub(r\"\\x96\", \"-\", review)\n",
    "    \n",
    "    if remove_html:\n",
    "        review = re.sub(r'<.*>', ' ', review)\n",
    "    \n",
    "    review = word_tokenize(review)\n",
    "        \n",
    "    if remove_stopwords:\n",
    "        stop_words = set(stopwords.words(\"english\"))\n",
    "        review = [w for w in review if w not in stop_words]\n",
    "        \n",
    "    if remove_punct:\n",
    "        contractions = [\"'ll\", \"'s\", \"n't\", \"'d\", \"'m\", \"'ve\", \"'re\"]\n",
    "        review = [w for w in review if w.isalnum() or w in contractions]\n",
    "    \n",
    "    if lowercase:\n",
    "        review = [w.lower() for w in review]\n",
    "        \n",
    "    if lemmatize:\n",
    "        lemmatizer = WordNetLemmatizer()\n",
    "        review = [lemmatizer.lemmatize(w) for w in review]\n",
    "    \n",
    "    \n",
    "    return review[:maxlen]\n",
    "    \n"
   ]
  },
  {
   "cell_type": "code",
   "execution_count": 10,
   "metadata": {},
   "outputs": [],
   "source": [
    "train_words = [preprocess(review, \n",
    "                      lowercase=True, \n",
    "                      remove_punct=True,\n",
    "                      remove_stopwords=True\n",
    "                     ) \n",
    "           for review in train_x_raw]\n",
    "\n",
    "val_words = [preprocess(review, \n",
    "                    lowercase=True, \n",
    "                    remove_punct=True,\n",
    "                    remove_stopwords=True\n",
    "                   ) \n",
    "         for review in val_x_raw]"
   ]
  },
  {
   "cell_type": "code",
   "execution_count": 11,
   "metadata": {},
   "outputs": [
    {
     "name": "stdout",
     "output_type": "stream",
     "text": [
      "['george', 'mildred', 'the', 'movie', 'lacks', 'talents', 'tv', 'writer', 'john', 'mortimer', 'brings', 'close', 'quarter', 'cut', 'thrust', 'george', \"'s\", 'class', 'war', 'fourmiles', 'alive', 'for', 'fans', '70', \"'s\", 'british', 'comedy', 'want', 'revisit', 'old', 'tv', 'companion', 'youth', 'film', 'add', 'nothing', 'experience', 'stick', 'first', 'four', 'tv', 'series', 'dvd'] \n",
      " ['watching', 'cbs', \"'s\", 'surrender', 'dorothy', 'i', 'kept', 'wondering', 'diane', 'keaton', 'would', 'want', \"'s\", 'television', 'movie', 'dearth', 'enticing', 'roles', 'slightly', 'older', 'actresses', \"n't\", 'wonder', 'academy', 'award', 'winning', 'performers', 'keaton', 'turn', 'tv', 'offers', 'opportunities', 'keaton', 'shine', 'a', 'single', 'mother', 'grieving', 'sudden', 'death', 'daughter', 'imposes', 'upon', 'gradually', 'becomes', 'friends', 'group', 'young', 'people', 'daughter', 'close', 'time', 'accident', 'adapted', 'novel', 'teleplay', 'gives', 'us', 'group', 'characters', 'one', 'would', 'cross', 'street', 'avoid', 'aside', 'coarse', 'dim', 'phony', 'people', 'incredibly', 'unconvincing', 'tidy', 'scenario', 'bungalow', 'near', 'beach', 'kids', 'reside', 'one', 'young', 'man', 'wears', 'muscle', 'shirts', 'tell', 'us', \"'s\", 'gay', 'hears', 'diane', 'keaton', 'say', 'surrender', 'dorothy', 'actually', 'asks', 'that', \"'s\", 'the', 'wizard', 'oz', 'right', 'genius', \"'s\", 'citizen', 'kane', 'keaton', 'may', 'wanted', 'material', 'based', 'subject', 'matter', 'confronting', 'death', 'she', 'tries', 'turning', 'distinctly', 'unlikable', 'woman', 'shadow', 'personage', 'lots', 'kooky', 'outfits', \"n't\", 'sit', 'well', 'viewer', 'since', 'keaton', 'always', 'warmly', 'likable', 'flexible', 'flaky', 'way', 'here', \"'s\", 'crazed', 'harpy', \"n't\", 'learn', 'many', 'lessons', 'journey', 'movie', 'quickly', 'forgets', \"'s\", 'dead', 'young', 'woman', 'becomes', 'odyssey', 'nervous', 'wreck', 'mom', 'appears', 'overage', 'hippie', 'never', 'lost', 'anyone', 'close', 'this', 'kind', 'film', 'actors', 'promote', 'talk', 'shows', 'caveat', 'it', 'help', 'lot', 'grieving', 'mothers', 'i', 'ca', \"n't\", 'imagine', 'helping', 'anyone', 'since', 'intrinsically', 'downer', 'muddled', 'baffling', 'it', \"'s\", 'deranged']\n",
      "43 \n",
      " 194\n"
     ]
    }
   ],
   "source": [
    "print(train_words[9592], '\\n', val_words[3029])\n",
    "print(len(train_words[9592]), '\\n', len(val_words[3029]))"
   ]
  },
  {
   "cell_type": "code",
   "execution_count": 12,
   "metadata": {},
   "outputs": [
    {
     "name": "stdout",
     "output_type": "stream",
     "text": [
      "30000\n"
     ]
    }
   ],
   "source": [
    "print(len(train_words))"
   ]
  },
  {
   "cell_type": "markdown",
   "metadata": {},
   "source": [
    "## <span style=\"color:teal\">Convert text to indices and add paddings</span>"
   ]
  },
  {
   "cell_type": "code",
   "execution_count": 13,
   "metadata": {},
   "outputs": [],
   "source": [
    "def make_vocabulary(preprocessed_data, \n",
    "                    vocab_size=15000,\n",
    "                    pad_token='<PAD>',\n",
    "                    unk_token='<UNK>'):\n",
    "    \n",
    "    # Create a vocabulary list of a given size\n",
    "    freqs = {}\n",
    "    for review in preprocessed_data:\n",
    "        for word in review:\n",
    "            freqs[word] = freqs.get(word, 0) + 1\n",
    "            \n",
    "    freqs_list = Counter(freqs).most_common(vocab_size)\n",
    "    \n",
    "    assert len(freqs_list) == vocab_size\n",
    "    \n",
    "    # Create word-index mappings\n",
    "    vocab_list = [pair[0] for pair in freqs_list]\n",
    "    word2ind = {word : i+2 for i, word in enumerate(vocab_list)}\n",
    "    \n",
    "    # Prepend the pad token\n",
    "    word2ind[pad_token] = 0\n",
    "    \n",
    "    # Prepend the 'unknown' token\n",
    "    word2ind[unk_token] = 1\n",
    "\n",
    "    \n",
    "    return word2ind\n",
    "  \n",
    "    "
   ]
  },
  {
   "cell_type": "code",
   "execution_count": 14,
   "metadata": {},
   "outputs": [
    {
     "name": "stdout",
     "output_type": "stream",
     "text": [
      "10002\n",
      "2 246\n"
     ]
    }
   ],
   "source": [
    "word2ind = make_vocabulary(train_words, vocab_size=10000)\n",
    "\n",
    "print(len(word2ind))\n",
    "print(word2ind['i'], word2ind['awful'])"
   ]
  },
  {
   "cell_type": "code",
   "execution_count": 15,
   "metadata": {},
   "outputs": [
    {
     "name": "stdout",
     "output_type": "stream",
     "text": [
      "157\n"
     ]
    }
   ],
   "source": [
    "print(word2ind['not'])"
   ]
  },
  {
   "cell_type": "code",
   "execution_count": 16,
   "metadata": {},
   "outputs": [],
   "source": [
    "del train_x_raw, val_x_raw"
   ]
  },
  {
   "cell_type": "code",
   "execution_count": 17,
   "metadata": {},
   "outputs": [
    {
     "name": "stdout",
     "output_type": "stream",
     "text": [
      "612\n",
      "78.34616666666666\n",
      "582\n",
      "77.7976\n"
     ]
    }
   ],
   "source": [
    "print(np.max([len(x) for x in train_words]))\n",
    "print(np.mean([len(x) for x in train_words]))\n",
    "\n",
    "print(np.max([len(x) for x in val_words]))\n",
    "print(np.mean([len(x) for x in val_words]))"
   ]
  },
  {
   "cell_type": "code",
   "execution_count": 18,
   "metadata": {},
   "outputs": [],
   "source": [
    "def make_padded_inputs(preprocessed_data, \n",
    "                       vocab, \n",
    "                       padded_length=64,\n",
    "                       pad_token='<PAD>',\n",
    "                       unk_token='<UNK>'):\n",
    "    \n",
    "    num_lines = len(preprocessed_data)\n",
    "    pad = vocab[pad_token]\n",
    "    \n",
    "    inputs = np.full((num_lines, padded_length), pad)\n",
    "    \n",
    "    for i, review in enumerate(preprocessed_data):\n",
    "        if len(review) <= padded_length:\n",
    "            start_position = padded_length - len(review)\n",
    "        else:\n",
    "            start_position = 0\n",
    "        for j, word in enumerate(review[:padded_length]):\n",
    "            inputs[i, (start_position + j)] = vocab.get(word, vocab[unk_token])       \n",
    "    return inputs\n",
    "            "
   ]
  },
  {
   "cell_type": "code",
   "execution_count": 19,
   "metadata": {},
   "outputs": [
    {
     "name": "stdout",
     "output_type": "stream",
     "text": [
      "Training example at indices 5 and 6:\n",
      "[['one', 'favorite', 'movies', 'ever', 'along', 'casablanca', 'cannibal', 'holocaust', 'near', 'perfect', 'cinema', 'rex', 'allen', 'narrates', 'wonderful', 'tale', 'cougar', 'needs', 'little', 'loving', 'contains', 'action', 'adventure', 'suspense', 'comedy', 'riverbed', 'chaos', 'see', 'this', 'movie', 'if', 'you', 'have', 'to', 'kill', 'to', 'do', 'it', 'find', 'better', 'cat', 'picture', 'anywhere', 'cat', 'outer', 'space', 'coming', 'close', 'second', 'charlie', \"'s\", 'performance', 'magnificent', 'even', 'includes', 'animal', 'cruelty', 'intense', 'logging', 'got', 'ta', 'love', 'disney', 'moral', 'failures'], ['the', 'man', 'moon', 'beautifully', 'realistic', 'look', 'life', 'eyes', 'adolescent', 'director', 'robert', 'mulligan', 'magically', 'screenwriter', 'jenny', 'wingfield', \"'s\", 'autobiography', 'childhood', 'gorgeous', 'cinematography', 'haunting', 'lyrical', 'musical', 'score', 'this', 'film', 'hits', 'home', 'one', 'powerful', 'emotionally', 'affecting', 'films', 'recent', 'times', 'the', 'man', 'moon', 'limited', 'release', '1991', 'love', 'fact', \"'re\", 'family', 'friends', 'probably', 'never', 'heard', 'buy', 'dvd', 'enjoy', '100', 'minutes', 'pure', 'poetic', 'art', 'this', 'film', 'truely', 'essence', 'filmaking', 'finest']]\n",
      "\n",
      "    Converted to indices:\n",
      "[[   8  327   25   36  273 5937 4133 4134  734  334  279 5167 1585    1\n",
      "   265  614    1  653   52 1828 1163  141 1060  646  102    1 4864   15\n",
      "    11    4   45  106 1649  304  469  304  205   10   77   47 1008  335\n",
      "  1579 1008 2919  664  511  481  278 1181    3  168 1787   16 1768 1603\n",
      "  4669 1414    1   92 2539   39  741 1560]\n",
      " [   5   63 1415 1124  727   83   53  435 4794   75  541    1 7374 2755\n",
      "  5302    1    3 6775 1426 1467  546 2381 9381  585  472   11    6 1690\n",
      "   293    8  844 2187 7073   33  942  120    5   63 1415 1718  562 5469\n",
      "    39  123  101  137  248  139   46  430  583  128  210 1120  142  923\n",
      "  4011  400   11    6    1 2945    1 1561]]\n",
      "\n",
      "65 64\n"
     ]
    }
   ],
   "source": [
    "train_x = make_padded_inputs(train_words, word2ind)\n",
    "val_x = make_padded_inputs(val_words, word2ind)\n",
    "\n",
    "\n",
    "print(f\"\"\"Training example at indices 5 and 6:\\n{train_words[5:7]}\\n\n",
    "    Converted to indices:\\n{train_x[5:7, :]}\\n\"\"\")\n",
    "\n",
    "print(len(train_words[5]), np.count_nonzero(train_x[5]))\n",
    "\n",
    "assert (len(train_words[5]) == np.count_nonzero(train_x[5])) or (64 == np.count_nonzero(train_x[5]))"
   ]
  },
  {
   "cell_type": "code",
   "execution_count": 20,
   "metadata": {},
   "outputs": [
    {
     "name": "stdout",
     "output_type": "stream",
     "text": [
      "(30000, 64)\n"
     ]
    }
   ],
   "source": [
    "print(train_x.shape)"
   ]
  },
  {
   "cell_type": "markdown",
   "metadata": {},
   "source": [
    "## <span style=\"color:teal\">Load data into torch</span>"
   ]
  },
  {
   "cell_type": "code",
   "execution_count": 21,
   "metadata": {},
   "outputs": [],
   "source": [
    "train_dataset = torch.utils.data.TensorDataset(torch.from_numpy(train_x), torch.from_numpy(train_y))\n",
    "val_dataset = torch.utils.data.TensorDataset(torch.from_numpy(val_x), torch.from_numpy(val_y))"
   ]
  },
  {
   "cell_type": "code",
   "execution_count": 22,
   "metadata": {},
   "outputs": [],
   "source": [
    "batch_size = 32\n",
    "\n",
    "train_loader = torch.utils.data.DataLoader(train_dataset, batch_size=batch_size)\n",
    "val_loader = torch.utils.data.DataLoader(val_dataset, batch_size=batch_size)"
   ]
  },
  {
   "cell_type": "code",
   "execution_count": 23,
   "metadata": {},
   "outputs": [
    {
     "name": "stdout",
     "output_type": "stream",
     "text": [
      "tensor([[   0,    0,    0,    0,    0,    0,    0,    0,    0,    0,    0,    0,\n",
      "            0,    0,    0,    0,    0,    0,    0,    0,    0,    0,    0,   42,\n",
      "          137,  179,   86,    1,    1, 1478,  326,    3,  175,  129,  529, 1924,\n",
      "            1,   86, 3631,   40,  457, 3937,   63,  182,  137,  966, 2326,  610,\n",
      "         1132,    1,  101,  876,  652,  673, 2688, 6257, 1044, 1702, 1201, 1048,\n",
      "         2765, 2307,  392, 6152],\n",
      "        [   2,   57,   92, 2539,   55,    2,  489,    9,   89,   25,   57,   46,\n",
      "           31,  109,    8,  963, 1839,  949,    2,   61,  276, 1839, 6510, 8830,\n",
      "         1986,  808,    4,  721,    5,   41,  347,  165, 1584, 4228, 1243,  877,\n",
      "           48,  568, 3441, 8347,   16,  331,  330,  139,   27,  258,  491, 6042,\n",
      "           24,  274,   43,   25,    9,    5, 1889,    5, 4010, 2944, 2420,  129,\n",
      "           25,    9,   32,   25],\n",
      "        [ 307,    8,  118,   25,    2,   57,   36,   31,    5,  364,  617,  272,\n",
      "           47,    8,   11,   12,   34,  403,  112,    4,   10,    3,  266,  246,\n",
      "            5, 1806,    1, 1180,  179,   25,  401,  323,   73, 1456,    2,  339,\n",
      "           86,    1,   25,   47,    2,    1,  433,    5,   12,   70,    2,   55,\n",
      "          254,    6,  546, 1667,   17, 1925,  881,   21,    2,  300,    4,    1,\n",
      "            5,  364,   10,    3],\n",
      "        [  11,    8,    4,   15,    1,  234,  169, 3139,   80,  196,    4, 1446,\n",
      "         3478,    1, 1786,   72, 1755, 1446, 1703,    5,  151, 1926, 1423,    5,\n",
      "         1150,    1,  135,    1,  552,   16, 2369,   12,    2,    1,   39, 2208,\n",
      "         6384,  505,    1,  154,   37,  183, 2308,   16,   19,  703,   94,    5,\n",
      "         2810,  234,  327,   70,  212,  371,    2,   39,   25,    2,   31,   98,\n",
      "            4,    3,    1, 2053],\n",
      "        [   0,    0,    0,    0,    0,    0,    0,    0,    0,    0,    0,    0,\n",
      "            0,    0,    0,    0,    0,    0,    0,    0,    0,    0,    0,    0,\n",
      "            0,    0,    0,    0,    0,    0,    0,    0,    0,    0,    0,    0,\n",
      "            0,    0,    0,    0,    0,    0,    0,    0,  389, 2252,   43,   12,\n",
      "         1395, 3892, 5558,    2,  239,  439,   50, 2244, 1380,   18, 1326, 1406,\n",
      "          602,  326, 3275,  835]]) \n",
      " tensor([0, 0, 0, 1, 0])\n"
     ]
    }
   ],
   "source": [
    "print(list(train_loader)[0][0][:5], '\\n', list(train_loader)[0][1][:5],)"
   ]
  },
  {
   "cell_type": "code",
   "execution_count": 24,
   "metadata": {},
   "outputs": [
    {
     "name": "stdout",
     "output_type": "stream",
     "text": [
      "[['a', 'family', 'looking', 'old', 'roadside', 'attractions', 'include', 'father', \"'s\", 'book', 'come', 'across', 'ancient', 'decrepit', 'old', 'freak', 'show', 'run', 'eccentric', 'man', 'when', 'family', 'van', 'breaks', 'upon', 'leaving', 'sideshow', \"'re\", 'forced', 'stay', 'nearly', 'abandoned', 'fishing', 'camp', 'site', 'prison', 'break', 'decades', 'prior', 'final', 'verdict']]\n",
      "41\n",
      "0\n"
     ]
    }
   ],
   "source": [
    "print(train_words[:1])\n",
    "print(len(train_words[0]))\n",
    "print(train_y[0])"
   ]
  },
  {
   "cell_type": "code",
   "execution_count": 25,
   "metadata": {},
   "outputs": [],
   "source": [
    "class SentimentClassifier(nn.Module):\n",
    "    \n",
    "    def __init__(self, \n",
    "                 vocab_size, \n",
    "                 d_feature, \n",
    "                 num_layers, \n",
    "                 hidden_size,\n",
    "                 n_outputs,\n",
    "                 dropout_rate,\n",
    "                 bidirectional=False):\n",
    "        \n",
    "        super().__init__()\n",
    "        \n",
    "        self.embedding = nn.Embedding(vocab_size, d_feature)\n",
    "        self.dropout = nn.Dropout(p=dropout_rate)\n",
    "        self.lstm = nn.LSTM(input_size=d_feature,\n",
    "                           hidden_size=hidden_size,\n",
    "                           num_layers=num_layers,\n",
    "                           bidirectional=bidirectional,\n",
    "                           batch_first=True)\n",
    "        self.fc = nn.Linear(hidden_size, n_outputs)\n",
    "        self.sigmoid = nn.Sigmoid()\n",
    "        \n",
    "        \n",
    "    def forward(self, input_data): \n",
    "        \n",
    "        embedded = self.dropout(self.embedding(input_data))\n",
    "        lstm_out, _ = self.lstm(embedded)\n",
    "        fc = self.fc(lstm_out[:,-1,:])\n",
    "        sigmoid = self.sigmoid(fc)\n",
    "   \n",
    "        return sigmoid\n",
    "    "
   ]
  },
  {
   "cell_type": "code",
   "execution_count": 26,
   "metadata": {},
   "outputs": [
    {
     "name": "stdout",
     "output_type": "stream",
     "text": [
      "SentimentClassifier(\n",
      "  (embedding): Embedding(10002, 128)\n",
      "  (dropout): Dropout(p=0.4, inplace=False)\n",
      "  (lstm): LSTM(128, 256, batch_first=True)\n",
      "  (fc): Linear(in_features=256, out_features=1, bias=True)\n",
      "  (sigmoid): Sigmoid()\n",
      ")\n"
     ]
    }
   ],
   "source": [
    "vocab_size = len(word2ind)\n",
    "d_feature = 128\n",
    "hidden_size = 256\n",
    "n_outputs = 1\n",
    "num_layers = 1\n",
    "dropout_rate = 0.4\n",
    "\n",
    "model = SentimentClassifier(\n",
    "                            vocab_size=vocab_size, \n",
    "                            d_feature=d_feature,  \n",
    "                            num_layers=num_layers, \n",
    "                            hidden_size=hidden_size, \n",
    "                            n_outputs=n_outputs,\n",
    "                            dropout_rate=dropout_rate).to(device)\n",
    "\n",
    "print(model)"
   ]
  },
  {
   "cell_type": "markdown",
   "metadata": {},
   "source": [
    "## <span style=\"color:teal\">Train model</span>"
   ]
  },
  {
   "cell_type": "code",
   "execution_count": 27,
   "metadata": {},
   "outputs": [],
   "source": [
    "def accuracy(outputs, targets):\n",
    "    outputs = torch.flatten(outputs)\n",
    "    assert outputs.shape == targets.shape\n",
    "    predicted = torch.where(outputs>=0.5, 1, 0)\n",
    "    accuracy = torch.Tensor.float(predicted==targets).mean()\n",
    "    return accuracy"
   ]
  },
  {
   "cell_type": "code",
   "execution_count": 28,
   "metadata": {},
   "outputs": [],
   "source": [
    "def train_model(train_loader=train_loader,\n",
    "             val_loader=val_loader,\n",
    "             model=model,\n",
    "             criterion=nn.BCELoss(),\n",
    "             n_epochs=6):\n",
    "    \n",
    "    start_time = time.time()\n",
    "    \n",
    "    train_losses = []\n",
    "    val_losses = []\n",
    "    accs = []\n",
    "    val_accs = []\n",
    "    \n",
    "    for epoch in range(n_epochs):\n",
    "        total_loss = 0\n",
    "        total_loss_val = 0\n",
    "        total_acc = 0\n",
    "        total_acc_val = 0\n",
    "        \n",
    "        model.train()\n",
    "        \n",
    "        for inputs, labels in train_loader: \n",
    "            optimizer= torch.optim.Adam(model.parameters(), lr=0.001)\n",
    "            #scheduler= StepLR(optimizer, step_size=n_epochs//2, gamma=0.5)\n",
    "            optimizer.zero_grad()\n",
    "            output = model(inputs)\n",
    "            loss = criterion(output.squeeze(), labels.float())\n",
    "            acc = accuracy(output, labels)\n",
    "            loss.backward()\n",
    "            nn.utils.clip_grad_norm_(model.parameters(), max_norm=1.5, norm_type=2)\n",
    "            optimizer.step()\n",
    "            total_loss += loss.item()\n",
    "            total_acc += acc.item()\n",
    "            \n",
    "        train_losses.append(total_loss/len(train_loader))\n",
    "        accs.append(total_acc/len(train_loader))\n",
    "        model.eval()\n",
    "        \n",
    "        \n",
    "        for val_inputs, val_labels in val_loader:\n",
    "            val_output = model(val_inputs)\n",
    "            val_loss = criterion(val_output.squeeze(), val_labels.float())\n",
    "            val_acc = accuracy(val_output, val_labels)\n",
    "            total_loss_val += val_loss.item()\n",
    "            total_acc_val += val_acc.item()\n",
    "            \n",
    "            \n",
    "        val_losses.append(total_loss_val/len(val_loader))\n",
    "        val_accs.append(total_acc_val/len(val_loader))\n",
    "        \n",
    "        #scheduler.step()\n",
    "        \n",
    "        print(f\"Epoch: {epoch+1}/{ n_epochs}\\t\",\n",
    "              f\"{((time.time() - start_time) / 60):.2f} min\\t\",\n",
    "              f\"Loss: {total_loss/len(train_loader):.3f}\\t\",\n",
    "              f\"Val Loss: {total_loss_val/len(val_loader):.3f}\\t\",\n",
    "              f\"Acc: {total_acc/len(train_loader):.3f}\\t\",\n",
    "              f\"Val Acc: {total_acc_val/len(val_loader):.3f}\")\n",
    "            \n",
    "    print(f\"Training completed in {(time.time() - start_time) / 60} min.\")\n",
    "    \n",
    "    return accs, val_accs, train_losses, val_losses\n",
    "    "
   ]
  },
  {
   "cell_type": "code",
   "execution_count": 29,
   "metadata": {
    "scrolled": true
   },
   "outputs": [
    {
     "name": "stdout",
     "output_type": "stream",
     "text": [
      "Epoch: 1/16\t 1.71 min\t Loss: 0.639\t Val Loss: 0.579\t Acc: 0.635\t Val Acc: 0.700\n",
      "Epoch: 2/16\t 3.44 min\t Loss: 0.539\t Val Loss: 0.546\t Acc: 0.734\t Val Acc: 0.752\n",
      "Epoch: 3/16\t 5.19 min\t Loss: 0.491\t Val Loss: 0.467\t Acc: 0.766\t Val Acc: 0.776\n",
      "Epoch: 4/16\t 7.07 min\t Loss: 0.461\t Val Loss: 0.461\t Acc: 0.785\t Val Acc: 0.791\n",
      "Epoch: 5/16\t 8.79 min\t Loss: 0.444\t Val Loss: 0.441\t Acc: 0.795\t Val Acc: 0.786\n",
      "Epoch: 6/16\t 10.63 min\t Loss: 0.433\t Val Loss: 0.430\t Acc: 0.805\t Val Acc: 0.800\n",
      "Epoch: 7/16\t 12.63 min\t Loss: 0.420\t Val Loss: 0.439\t Acc: 0.813\t Val Acc: 0.809\n",
      "Epoch: 8/16\t 15.17 min\t Loss: 0.413\t Val Loss: 0.424\t Acc: 0.818\t Val Acc: 0.805\n",
      "Epoch: 9/16\t 17.28 min\t Loss: 0.409\t Val Loss: 0.422\t Acc: 0.819\t Val Acc: 0.806\n",
      "Epoch: 10/16\t 19.13 min\t Loss: 0.402\t Val Loss: 0.440\t Acc: 0.826\t Val Acc: 0.813\n",
      "Epoch: 11/16\t 21.15 min\t Loss: 0.397\t Val Loss: 0.429\t Acc: 0.830\t Val Acc: 0.814\n",
      "Epoch: 12/16\t 23.51 min\t Loss: 0.392\t Val Loss: 0.420\t Acc: 0.830\t Val Acc: 0.816\n",
      "Epoch: 13/16\t 25.76 min\t Loss: 0.391\t Val Loss: 0.415\t Acc: 0.833\t Val Acc: 0.815\n",
      "Epoch: 14/16\t 27.76 min\t Loss: 0.383\t Val Loss: 0.412\t Acc: 0.836\t Val Acc: 0.810\n",
      "Epoch: 15/16\t 29.50 min\t Loss: 0.381\t Val Loss: 0.408\t Acc: 0.838\t Val Acc: 0.811\n",
      "Epoch: 16/16\t 31.28 min\t Loss: 0.382\t Val Loss: 0.405\t Acc: 0.838\t Val Acc: 0.818\n",
      "Training completed in 31.275535464286804 min.\n"
     ]
    }
   ],
   "source": [
    "accs, val_accs, train_losses, val_losses = train_model(n_epochs=16)"
   ]
  },
  {
   "cell_type": "code",
   "execution_count": 30,
   "metadata": {},
   "outputs": [],
   "source": [
    "def plot_losses(train_losses, val_losses):\n",
    "    plt.figure(figsize=(10,5))\n",
    "    plt.title(\"Training and Validation Loss\")\n",
    "    plt.plot(val_losses, label=\"val\")\n",
    "    plt.plot(train_losses, label=\"train\")\n",
    "    plt.xlabel(\"Iterations\")\n",
    "    plt.ylabel(\"Loss\")\n",
    "    plt.legend()\n",
    "    plt.show()"
   ]
  },
  {
   "cell_type": "code",
   "execution_count": 31,
   "metadata": {},
   "outputs": [],
   "source": [
    "def plot_accuracies(accuracies, val_accuracies):\n",
    "    plt.figure(figsize=(10,5))\n",
    "    plt.title(\"Training and Validation Accuracies\")\n",
    "    plt.plot(val_accuracies, label=\"val\")\n",
    "    plt.plot(accuracies, label=\"train\")\n",
    "    plt.xlabel(\"Iterations\")\n",
    "    plt.ylabel(\"Accuracy\")\n",
    "    plt.legend()\n",
    "    plt.show()"
   ]
  },
  {
   "cell_type": "code",
   "execution_count": 32,
   "metadata": {},
   "outputs": [
    {
     "data": {
      "image/png": "[encoded data removed]",
      "text/plain": [
       "<Figure size 720x360 with 1 Axes>"
      ]
     },
     "metadata": {
      "needs_background": "light"
     },
     "output_type": "display_data"
    },
    {
     "data": {
      "image/png": "[encoded data removed]",
      "text/plain": [
       "<Figure size 720x360 with 1 Axes>"
      ]
     },
     "metadata": {
      "needs_background": "light"
     },
     "output_type": "display_data"
    }
   ],
   "source": [
    "plot_losses(train_losses, val_losses)\n",
    "plot_accuracies(accs, val_accs)"
   ]
  },
  {
   "cell_type": "markdown",
   "metadata": {},
   "source": [
    "## <span style=\"color:teal\">Make predictions</span>"
   ]
  },
  {
   "cell_type": "code",
   "execution_count": 33,
   "metadata": {},
   "outputs": [],
   "source": [
    "def predict(review, vocab=word2ind, model=model):\n",
    "    \n",
    "    preprocessed = preprocess(review, \n",
    "                              lowercase=True, \n",
    "                              remove_punct=True, \n",
    "                              remove_stopwords=True)\n",
    "    \n",
    "    inputs = make_padded_inputs(preprocessed, vocab)\n",
    "    pred_loader = torch.utils.data.DataLoader(torch.from_numpy(inputs), batch_size=1)\n",
    "    \n",
    "    model=model\n",
    "    model.eval()\n",
    "    \n",
    "    for x in pred_loader:\n",
    "        output = model(x)\n",
    "    \n",
    "    return \"This review is positive\" if output >= 0.5 else \"This review is negative\"\n",
    "\n",
    "    \n",
    "    \n",
    "    "
   ]
  },
  {
   "cell_type": "code",
   "execution_count": 34,
   "metadata": {
    "scrolled": true
   },
   "outputs": [
    {
     "name": "stdout",
     "output_type": "stream",
     "text": [
      "Review text: \"ZZZZZZZZZZZZZZZZZZ\"! If IMDb would allow one-word reviews, that's what mine would be. This film was originally intended only for kids and it would seem to be very tough going for adults or older kids to watch the film. The singing, the story, everything is dull and washed out--just like this public domain print. Like other comedy team films with roots in traditional kids stories (such as the awful SNOW WHITE AND THE THREE STOOGES and the overrated BABES IN TOYLAND), this movie has limited appeal and just doesn't age well. Now that I think about it, I seriously doubt that many kids nowadays would even find this film enjoyable! So my advice is DON'T watch this film. If you MUST watch an Abbott and Costello film, almost any other one of their films (except for A&C GO TO MARS) would be an improvement. \n",
      " 0\n"
     ]
    },
    {
     "data": {
      "text/plain": [
       "'This review is negative'"
      ]
     },
     "execution_count": 34,
     "metadata": {},
     "output_type": "execute_result"
    }
   ],
   "source": [
    "review = test_x_raw[871]\n",
    "print(f\"Review text: {review}\", '\\n', test_y[871])\n",
    "predict(review)"
   ]
  },
  {
   "cell_type": "code",
   "execution_count": 35,
   "metadata": {},
   "outputs": [
    {
     "name": "stdout",
     "output_type": "stream",
     "text": [
      "This film features two of my favorite guilty pleasures. Sure, the effects are laughable, the story confused, but just watching Hasselhoff in his Knight Rider days is always fun. I especially like the old hotel they used to shoot this in, it added to what little suspense was mustered. Give it a 3. \n",
      " 0\n"
     ]
    },
    {
     "data": {
      "text/plain": [
       "'This review is negative'"
      ]
     },
     "execution_count": 35,
     "metadata": {},
     "output_type": "execute_result"
    }
   ],
   "source": [
    "review2 = test_x_raw[259]\n",
    "print(review2, '\\n', test_y[259])\n",
    "predict(review2)"
   ]
  },
  {
   "cell_type": "code",
   "execution_count": 36,
   "metadata": {},
   "outputs": [
    {
     "data": {
      "text/plain": [
       "'This review is positive'"
      ]
     },
     "execution_count": 36,
     "metadata": {},
     "output_type": "execute_result"
    }
   ],
   "source": [
    "predict(\"The film was amazing.\")"
   ]
  },
  {
   "cell_type": "code",
   "execution_count": 48,
   "metadata": {},
   "outputs": [
    {
     "data": {
      "text/plain": [
       "'This review is negative'"
      ]
     },
     "execution_count": 48,
     "metadata": {},
     "output_type": "execute_result"
    }
   ],
   "source": [
    "predict(\"I hated the film.\")"
   ]
  },
  {
   "cell_type": "markdown",
   "metadata": {},
   "source": [
    "## <span style=\"color:teal\">Make the test set and test the model</span>"
   ]
  },
  {
   "cell_type": "code",
   "execution_count": 38,
   "metadata": {},
   "outputs": [],
   "source": [
    "test_words = [preprocess(review, \n",
    "                      lowercase=True, \n",
    "                      remove_punct=True,\n",
    "                      remove_stopwords=True\n",
    "                     ) \n",
    "           for review in test_x_raw]"
   ]
  },
  {
   "cell_type": "code",
   "execution_count": 39,
   "metadata": {},
   "outputs": [],
   "source": [
    "test_x = make_padded_inputs(test_words, word2ind)"
   ]
  },
  {
   "cell_type": "code",
   "execution_count": 40,
   "metadata": {},
   "outputs": [
    {
     "name": "stdout",
     "output_type": "stream",
     "text": [
      "[   2   27  146 1285 3537   25    2 1024   66   86    2   93  900 1629\n",
      " 3546 3656    1   19  225  114  463  140   60   25    2  659  798   22\n",
      "   73 2069    1    1    2  194  342  411    4  356 4720    1    1  191\n",
      "  624    2  439 1025  376   24    9    2   13   39  976  325 3700  762\n",
      " 2619    2  571  137   65   89 1338  169]\n"
     ]
    }
   ],
   "source": [
    "print(test_x[10])\n",
    "\n",
    "assert (len(test_words[10]) == np.count_nonzero(test_x[10])) or (64 == np.count_nonzero(test_x[10]))"
   ]
  },
  {
   "cell_type": "code",
   "execution_count": 41,
   "metadata": {},
   "outputs": [],
   "source": [
    "test_dataset = torch.utils.data.TensorDataset(torch.from_numpy(test_x), torch.from_numpy(test_y))\n",
    "test_loader = torch.utils.data.DataLoader(test_dataset, batch_size=batch_size)"
   ]
  },
  {
   "cell_type": "code",
   "execution_count": 42,
   "metadata": {},
   "outputs": [],
   "source": [
    "def test_accuracy(test_loader=test_loader,\n",
    "                  model=model,\n",
    "                  accuracy_f=accuracy\n",
    "                 ):\n",
    "    \n",
    "    model=model\n",
    "    total_acc = 0\n",
    "\n",
    "    model.eval()\n",
    "    for inputs, labels in test_loader:\n",
    "        output = model(inputs)\n",
    "        acc = accuracy(output, labels)\n",
    "        total_acc += acc.item()\n",
    "    \n",
    "    return total_acc / len(test_loader)\n",
    "        "
   ]
  },
  {
   "cell_type": "code",
   "execution_count": 49,
   "metadata": {},
   "outputs": [
    {
     "name": "stdout",
     "output_type": "stream",
     "text": [
      "0.8194888178913738\n"
     ]
    }
   ],
   "source": [
    "test_acc = test_accuracy()\n",
    "print(test_acc)"
   ]
  },
  {
   "cell_type": "code",
   "execution_count": null,
   "metadata": {},
   "outputs": [],
   "source": []
  }
 ],
 "metadata": {
  "kernelspec": {
   "display_name": "Python 3",
   "language": "python",
   "name": "python3"
  },
  "language_info": {
   "codemirror_mode": {
    "name": "ipython",
    "version": 3
   },
   "file_extension": ".py",
   "mimetype": "text/x-python",
   "name": "python",
   "nbconvert_exporter": "python",
   "pygments_lexer": "ipython3",
   "version": "3.8.10"
  }
 },
 "nbformat": 4,
 "nbformat_minor": 4
}
