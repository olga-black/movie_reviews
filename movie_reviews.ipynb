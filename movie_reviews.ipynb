{
 "cells": [
  {
   "cell_type": "markdown",
   "metadata": {},
   "source": [
    "# <span style=\"color:turquoise\">Text classification with pytorch</span>\n",
    "\n",
    "\n",
    "An example of using natural language processing for sentiment analysis. <br> Building a binary classifier of movie reviews that will predict if a review is positive or negative.\n",
    "\n",
    "\n",
    "\n",
    "\n",
    "__Dataset:__ IMDB movie reviews from Kaggle<br>\n",
    "__Model:__ LSTM\n"
   ]
  },
  {
   "cell_type": "markdown",
   "metadata": {},
   "source": [
    "### <span style=\"color:teal\">Todo:</span>\n",
    "\n",
    "- ~~Read dataset~~\n",
    "- ~~Preprocess text~~\n",
    "- ~~Split into train, validation, and test sets~~\n",
    "- ~~Convert text to indices and add paddings~~\n",
    "- ~~Make model~~\n",
    "- ~~Make training function~~\n",
    "- ~~Make evaluation function~~\n",
    "- ~~Train~~\n",
    "- Evaluate on test set\n",
    "- Run inference"
   ]
  },
  {
   "cell_type": "code",
   "execution_count": 1,
   "metadata": {},
   "outputs": [
    {
     "name": "stderr",
     "output_type": "stream",
     "text": [
      "/usr/local/lib/python3.8/dist-packages/torch/cuda/__init__.py:52: UserWarning: CUDA initialization: Found no NVIDIA driver on your system. Please check that you have an NVIDIA GPU and installed a driver from http://www.nvidia.com/Download/index.aspx (Triggered internally at  /pytorch/c10/cuda/CUDAFunctions.cpp:100.)\n",
      "  return torch._C._cuda_getDeviceCount() > 0\n"
     ]
    }
   ],
   "source": [
    "import csv\n",
    "import random\n",
    "import numpy as np\n",
    "from collections import Counter\n",
    "\n",
    "from nltk.corpus import stopwords\n",
    "from nltk import word_tokenize\n",
    "from nltk.stem import WordNetLemmatizer\n",
    "import re\n",
    "\n",
    "import torch\n",
    "import torch.nn as nn\n",
    "\n",
    "import matplotlib.pyplot as plt\n",
    "import time\n",
    "\n",
    "device = torch.device(\"cuda\" if torch.cuda.is_available() else \"cpu\")"
   ]
  },
  {
   "cell_type": "markdown",
   "metadata": {},
   "source": [
    "## <span style=\"color:teal\">Read the data and split it into training, cross-validation, and test sets</span>"
   ]
  },
  {
   "cell_type": "code",
   "execution_count": 2,
   "metadata": {},
   "outputs": [],
   "source": [
    "class Reviews():\n",
    "    \n",
    "    def __init__(self):\n",
    "        self.train = {}\n",
    "        self.val = {}\n",
    "        self.test = {}\n",
    "        self.LABELS = {\"positive\":1, \"negative\": 0}\n",
    "        self.COUNT = {\"positive\": 0, \"negative\": 0}\n",
    "    \n",
    "    \n",
    "    def read_data(self):\n",
    "        \n",
    "        dataset = []\n",
    "        \n",
    "        with open (\"IMDB_Dataset.csv\", newline='') as f:\n",
    "            datareader = csv.reader(f, delimiter=',')\n",
    "            next(datareader, None)\n",
    "\n",
    "            for row in datareader:\n",
    "                dataset.append([row[0], self.LABELS[row[1]]])\n",
    "                self.COUNT[row[1]] += 1\n",
    "            \n",
    "            random.shuffle(dataset)\n",
    "                \n",
    "        return dataset\n",
    "\n",
    "\n",
    "\n",
    "\n",
    "    def split_dataset(self,\n",
    "                      dataset,\n",
    "                      split=[int(50000*0.6), int(50000*0.2), int(50000*0.2)]):\n",
    "        \n",
    "        train, val, test = torch.utils.data.random_split(dataset,\n",
    "                                               split,\n",
    "                                               generator=torch.Generator().manual_seed(43))\n",
    "          \n",
    "            \n",
    "        return train, val, test"
   ]
  },
  {
   "cell_type": "code",
   "execution_count": 3,
   "metadata": {},
   "outputs": [],
   "source": [
    "rev = Reviews()\n",
    "data = rev.read_data()\n",
    "pos_count = rev.COUNT[\"positive\"]\n",
    "neg_count = rev.COUNT[\"negative\"]\n"
   ]
  },
  {
   "cell_type": "code",
   "execution_count": 4,
   "metadata": {},
   "outputs": [
    {
     "name": "stdout",
     "output_type": "stream",
     "text": [
      "['Gloria Victor and Dolores Reed in space girl costumes. That said, I could watch Gloria and Dolores walk around the space ship for about an hour or so.', 0]\n"
     ]
    }
   ],
   "source": [
    "print(data[10])"
   ]
  },
  {
   "cell_type": "code",
   "execution_count": 5,
   "metadata": {},
   "outputs": [
    {
     "name": "stdout",
     "output_type": "stream",
     "text": [
      "[\"Released on DVD in the UK as Axe, The Choke is a teen slasher that fails in pretty much every department: the story is almost non-existent, resulting in a film which comprises mostly of people wandering around a dark building; with the exception of two characters (who are quite obviously destined to be the film's survivors), everyone is thoroughly objectionable, meaning that the viewer couldn't care less when they get slaughtered; the deaths aren't gory enough (unless a brief shot of a pound of minced beef covered in fake blood turns your stomach); and the gratuitous sex scene features next to no nudity (an unforgivable mistake to make in a slasher flick!). The wafer-thin plot sees members of a punk band locked inside what appears to be the world's largest nightclub (there are endless abandoned corridors and rooms, unlike any club I've ever seen) where they are picked off by an unseen assailant. For a low budget effort, the production values are okay, and the cast are all seem to be fairly capable actors, but with not nearly enough genuine scares, a reluctance to get really messy (this is a slasher, so where's the graphic splatter?), way too much dreadful dialogue (particularly from the not-dead-soon-enough drummer) and some ill advised use of tacky video techniques in an attempt to add some style, the movie quickly becomes extremely boring.\", 0]\n"
     ]
    }
   ],
   "source": [
    "train, val, test = rev.split_dataset(data)\n",
    "print(train[10])"
   ]
  },
  {
   "cell_type": "code",
   "execution_count": 6,
   "metadata": {},
   "outputs": [
    {
     "name": "stdout",
     "output_type": "stream",
     "text": [
      "30000 10000 10000\n"
     ]
    }
   ],
   "source": [
    "print(len(train), len(val), len(test))"
   ]
  },
  {
   "cell_type": "code",
   "execution_count": 7,
   "metadata": {},
   "outputs": [],
   "source": [
    "def split_x_and_y(data):\n",
    "    x = []\n",
    "    y = []\n",
    "    for review, label in data:\n",
    "        x.append(review)\n",
    "        y.append(label)\n",
    "    return x, np.array(y)"
   ]
  },
  {
   "cell_type": "code",
   "execution_count": 8,
   "metadata": {},
   "outputs": [
    {
     "name": "stdout",
     "output_type": "stream",
     "text": [
      "30000 30000\n",
      "As an aging rocker, this movie mentions Heep and Quo - my 2 favourite bands ever - but with the incredible cast (everyone) - and the fantastic storyline - I just love this piece of creative genius. I cannot recommend it more highly - and Mick Jones added so much (Foreigner lead and primary songwriter along with the greatest rock singer ever - Lou Gramm) - I have watched this great work more than 10 times- Bill Nighy - what a voice - and Jimmy Nail - talent oozes from every pore - then Astrid.... and Karen..... what more could an aging rocker ask for!! 10/10 - bloody brilliant. Alastair, Perth, Western Oz, Originally from Windsor, England. 1\n"
     ]
    }
   ],
   "source": [
    "train_x_raw, train_y = split_x_and_y(train)\n",
    "val_x_raw, val_y = split_x_and_y(val)\n",
    "test_x_raw, test_y = split_x_and_y(test)\n",
    "\n",
    "\n",
    "print(len(train_x_raw), len(train_y))\n",
    "print(train_x_raw[50], train_y[50])"
   ]
  },
  {
   "cell_type": "markdown",
   "metadata": {},
   "source": [
    "## <span style=\"color:teal\">Preprocess text</span>"
   ]
  },
  {
   "cell_type": "code",
   "execution_count": 9,
   "metadata": {},
   "outputs": [],
   "source": [
    "def preprocess(review,\n",
    "               remove_stopwords=False, \n",
    "               remove_html=True, \n",
    "               remove_punct=False, \n",
    "               lowercase=False, \n",
    "               lemmatize=False,\n",
    "               maxlen=128):\n",
    "    \n",
    "    review = re.sub(r\"\\'\", \"'\", review)\n",
    "    review = re.sub(r\"\\x96\", \"-\", review)\n",
    "    \n",
    "    if remove_html:\n",
    "        review = re.sub(r'<.*>', ' ', review)\n",
    "    \n",
    "    review = word_tokenize(review)\n",
    "        \n",
    "    if remove_stopwords:\n",
    "        stop_words = set(stopwords.words(\"english\"))\n",
    "        review = [w for w in review if w not in stop_words]\n",
    "        \n",
    "    if remove_punct:\n",
    "        contractions = [\"'ll\", \"'s\", \"n't\", \"'d\", \"'m\", \"'ve\", \"'re\"]\n",
    "        review = [w for w in review if w.isalnum() or w in contractions]\n",
    "    \n",
    "    if lowercase:\n",
    "        review = [w.lower() for w in review]\n",
    "        \n",
    "    if lemmatize:\n",
    "        lemmatizer = WordNetLemmatizer()\n",
    "        review = [lemmatizer.lemmatize(w) for w in review]\n",
    "    \n",
    "    \n",
    "    return review[:maxlen]\n",
    "    \n"
   ]
  },
  {
   "cell_type": "code",
   "execution_count": 10,
   "metadata": {},
   "outputs": [],
   "source": [
    "train_words = [preprocess(review, \n",
    "                      lowercase=True, \n",
    "                      remove_punct=True,\n",
    "                      remove_stopwords=True\n",
    "                     ) \n",
    "           for review in train_x_raw]\n",
    "\n",
    "val_words = [preprocess(review, \n",
    "                    lowercase=True, \n",
    "                    remove_punct=True,\n",
    "                    remove_stopwords=True\n",
    "                   ) \n",
    "         for review in val_x_raw]"
   ]
  },
  {
   "cell_type": "code",
   "execution_count": 11,
   "metadata": {},
   "outputs": [
    {
     "name": "stdout",
     "output_type": "stream",
     "text": [
      "['the', 'story', 'quite', 'original', 'movie', 'kinda', 'slow', 'building', 'point', 'steal', 'cars', 'its', 'kinda', 'nice', 'though', 'watch', 'prepare', 'stealing', 'actual', 'stealing', \"'ve\", 'picture', 'however', 'stunt', 'work', 'movie', 'excellent', 'definetly', 'movie', 'have', 'see'] \n",
      " ['zombie', 'bloodbath', 'movie', 'made', 'zombie', 'fans', 'zombie', 'fans', 'true', 'love', 'horror', 'genre', 'as', 'i', 'understand', 'commentary', 'things', 'i', 'read', 'made', 'huge', 'midwest', 'flood', '1993', 'half', 'missouri', 'underwater', 'buildings', 'water', 'cars', 'houses', 'underwater', 'one', 'article', 'said', 'zombies', 'crew', 'movie', 'would', 'help', 'sandbag', 'river', 'shooting', 'day', 'the', 'fact', 'movie', 'got', 'made', 'miracle', 'it', 'like', 'huge', 'mashing', 'every', 'zombie', 'movie', 'ever', 'made', 'put', 'troma', 'filter', 'it', 'party', 'movie', 'enjoy', 'friends', 'like', 'loads', 'splatter', 'goofy', 'characters', 'and', 'fast', 'paced', 'energetic', 'really', 'funny', 'hope', 'review', 'helps', 'people', 'see', 'stupidity', 'going']\n",
      "31 \n",
      " 85\n"
     ]
    }
   ],
   "source": [
    "print(train_words[9592], '\\n', val_words[3029])\n",
    "print(len(train_words[9592]), '\\n', len(val_words[3029]))"
   ]
  },
  {
   "cell_type": "code",
   "execution_count": 12,
   "metadata": {},
   "outputs": [
    {
     "name": "stdout",
     "output_type": "stream",
     "text": [
      "30000\n"
     ]
    }
   ],
   "source": [
    "print(len(train_words))"
   ]
  },
  {
   "cell_type": "markdown",
   "metadata": {},
   "source": [
    "## <span style=\"color:teal\">Convert text to indices and add paddings</span>"
   ]
  },
  {
   "cell_type": "code",
   "execution_count": 13,
   "metadata": {},
   "outputs": [],
   "source": [
    "def make_vocabulary(preprocessed_data, \n",
    "                    vocab_size=10000,\n",
    "                    pad_token='<PAD>',\n",
    "                    unk_token='<UNK>'):\n",
    "    \n",
    "    # Create a vocabulary list of a given size\n",
    "    freqs = {}\n",
    "    for review in preprocessed_data:\n",
    "        for word in review:\n",
    "            freqs[word] = freqs.get(word, 0) + 1\n",
    "            \n",
    "    freqs_list = Counter(freqs).most_common(vocab_size)\n",
    "    \n",
    "    assert len(freqs_list) == vocab_size\n",
    "    \n",
    "    # Create word-index mappings\n",
    "    vocab_list = [pair[0] for pair in freqs_list]\n",
    "    word2ind = {word : i+2 for i, word in enumerate(vocab_list)}\n",
    "    ind2word = {i+2 : word for i, word in enumerate(vocab_list)}\n",
    "    \n",
    "    # Prepend the pad token\n",
    "    word2ind[pad_token] = 0\n",
    "    ind2word[0] = pad_token\n",
    "    \n",
    "    # Prepend the 'unknown' token\n",
    "    word2ind[unk_token] = 1\n",
    "    ind2word[1] = unk_token\n",
    "    \n",
    "    assert len(word2ind) == len(ind2word)\n",
    "\n",
    "    \n",
    "    return word2ind, ind2word\n",
    "  \n",
    "    "
   ]
  },
  {
   "cell_type": "code",
   "execution_count": 14,
   "metadata": {},
   "outputs": [
    {
     "name": "stdout",
     "output_type": "stream",
     "text": [
      "10002 10002\n",
      "2 235\n",
      "tilly lean\n"
     ]
    }
   ],
   "source": [
    "word2ind, ind2word = make_vocabulary(train_words)\n",
    "\n",
    "print(len(word2ind), len(ind2word))\n",
    "print(word2ind['i'], word2ind['awful'])\n",
    "print(ind2word[6700], ind2word[7893])"
   ]
  },
  {
   "cell_type": "code",
   "execution_count": 15,
   "metadata": {},
   "outputs": [],
   "source": [
    "del train_x_raw, val_x_raw"
   ]
  },
  {
   "cell_type": "code",
   "execution_count": 16,
   "metadata": {},
   "outputs": [
    {
     "name": "stdout",
     "output_type": "stream",
     "text": [
      "128\n",
      "71.508\n",
      "128\n",
      "70.8432\n"
     ]
    }
   ],
   "source": [
    "print(np.max([len(x) for x in train_words]))\n",
    "print(np.mean([len(x) for x in train_words]))\n",
    "\n",
    "print(np.max([len(x) for x in val_words]))\n",
    "print(np.mean([len(x) for x in val_words]))"
   ]
  },
  {
   "cell_type": "code",
   "execution_count": 17,
   "metadata": {},
   "outputs": [],
   "source": [
    "def make_padded_inputs(preprocessed_data, \n",
    "                       vocab, \n",
    "                       padded_length=64,\n",
    "                       pad_token='<PAD>',\n",
    "                       unk_token='<UNK>'\n",
    "                      ):\n",
    "    \n",
    "    num_lines = len(preprocessed_data)\n",
    "    pad = vocab[pad_token]\n",
    "    \n",
    "    inputs = np.full((num_lines, padded_length), pad)\n",
    "    \n",
    "    for i, review in enumerate(preprocessed_data):\n",
    "        start_position = padded_length - len(review)\n",
    "        for j, word in enumerate(review):\n",
    "            inputs[i, (start_position + j)] = vocab.get(word, vocab[unk_token])\n",
    "            \n",
    "    return inputs\n",
    "            "
   ]
  },
  {
   "cell_type": "code",
   "execution_count": 18,
   "metadata": {},
   "outputs": [
    {
     "name": "stdout",
     "output_type": "stream",
     "text": [
      "Training example at indices 5 and 6:\n",
      "[['written', 'produced', 'directed', 'charlie', 'chaplin', 'great', 'actor', \"'s\", 'propaganda', 'piece', 'skewering', 'adolf', 'hitler', 'this', 'good', 'movie', 'well', 'worth', 'watching'], ['this', 'te', 'cartoon', 'instead', 'country', 'cousin', 'visually', 'much', 'entertaining', 'memorable', 'worth', 'watching', 'music', 'alone', 'although', 'elements', 'undoubtably', 'bruise', 'sensibilities', 'days', 'cartoon', 'given', 'bit', 'perspective', 'it', \"'s\", 'sixty', 'years', 'old', 'cartoon', 'i', \"'m\", 'disabled', 'i', 'folks', 'look', 'things', 'like', 'cartoon', 'take', 'umbrage', 'i', 'would', 'long', 'since', 'curled', 'fetal', 'position', 'faded', 'away', 'sometimes', 'need', 'lighten', 'put', 'head', 'back', 'float', 'caricatures', 'celebrities', 'cartoons', 'common', '1930s', '1940s', 'almost', 'never', 'terribly', 'flattering', 'bing', 'crosby', 'reportedly', 'hated', 'used', 'one', 'occasion', 'sigh']]\n",
      "\n",
      "    Converted to indices:\n",
      "[[   0    0    0    0    0    0    0    0    0    0    0    0    0    0\n",
      "     0    0    0    0    0    0    0    0    0    0    0    0    0    0\n",
      "     0    0    0    0    0    0    0    0    0    0    0    0    0    0\n",
      "     0    0    0  306  883  369 1298 2296   19  225    3 1892  280    1\n",
      "     1 2690   11   12    4   21  147   57]\n",
      " [  57  132  520  168  797    1    1 8194  386  808  322  156 1883   10\n",
      "     3 9629   66   85  808    2   62 5884    2 1257   92  113    9  808\n",
      "   111    1    2   13  115  141    1    1 2835 7378  163  423  264 8461\n",
      "   194  378   68 9308 5210 7188 1818 1035 3607 5114  150   46 1640    1\n",
      "     1 9013    1 1397  283    8 5035 6626]]\n",
      "\n",
      "19 19\n"
     ]
    }
   ],
   "source": [
    "train_x = make_padded_inputs(train_words, word2ind)\n",
    "val_x = make_padded_inputs(val_words, word2ind)\n",
    "\n",
    "\n",
    "print(f\"\"\"Training example at indices 5 and 6:\\n{train_words[5:7]}\\n\n",
    "    Converted to indices:\\n{train_x[5:7, :]}\\n\"\"\")\n",
    "\n",
    "print(len(train_words[5]), np.count_nonzero(train_x[5]))\n",
    "\n",
    "assert (len(train_words[5]) == np.count_nonzero(train_x[5])) or (64 == np.count_nonzero(train_x[5]))"
   ]
  },
  {
   "cell_type": "markdown",
   "metadata": {},
   "source": [
    "## <span style=\"color:teal\">Load data into torch</span>"
   ]
  },
  {
   "cell_type": "code",
   "execution_count": 19,
   "metadata": {},
   "outputs": [],
   "source": [
    "train_dataset = torch.utils.data.TensorDataset(torch.from_numpy(train_x), torch.from_numpy(train_y))\n",
    "val_dataset = torch.utils.data.TensorDataset(torch.from_numpy(val_x), torch.from_numpy(val_y))"
   ]
  },
  {
   "cell_type": "code",
   "execution_count": 20,
   "metadata": {},
   "outputs": [],
   "source": [
    "batch_size = 64\n",
    "\n",
    "train_loader = torch.utils.data.DataLoader(train_dataset, batch_size=batch_size)\n",
    "val_loader = torch.utils.data.DataLoader(val_dataset, batch_size=batch_size)"
   ]
  },
  {
   "cell_type": "code",
   "execution_count": 21,
   "metadata": {},
   "outputs": [],
   "source": [
    "class SentimentClassifier(nn.Module):\n",
    "    \n",
    "    def __init__(self, \n",
    "                 vocab_size, \n",
    "                 d_feature, \n",
    "                 num_layers, \n",
    "                 hidden_size,\n",
    "                 n_outputs,\n",
    "                 bidirectional=False,\n",
    "                 dropout_rate=0.5):\n",
    "        \n",
    "        super().__init__()\n",
    "        \n",
    "        self.embedding = nn.Embedding(vocab_size, d_feature)\n",
    "        self.dropout = nn.Dropout(p=dropout_rate)\n",
    "        self.lstm = nn.LSTM(input_size=d_feature,\n",
    "                           hidden_size=hidden_size,\n",
    "                           num_layers=num_layers,\n",
    "                           bidirectional=bidirectional,\n",
    "                           batch_first=True)\n",
    "        self.fc = nn.Linear(hidden_size, n_outputs)\n",
    "        self.sigmoid = nn.Sigmoid()\n",
    "        \n",
    "        \n",
    "    def forward(self, input_data): \n",
    "        \n",
    "        embedded = self.dropout(self.embedding(input_data))\n",
    "        lstm_out, _ = self.lstm(embedded)\n",
    "        fc = self.fc(lstm_out[:,-1,:])\n",
    "        sigmoid = self.sigmoid(fc)\n",
    "   \n",
    "        return sigmoid\n",
    "    "
   ]
  },
  {
   "cell_type": "code",
   "execution_count": 22,
   "metadata": {},
   "outputs": [
    {
     "name": "stdout",
     "output_type": "stream",
     "text": [
      "SentimentClassifier(\n",
      "  (embedding): Embedding(10002, 64)\n",
      "  (dropout): Dropout(p=0.5, inplace=False)\n",
      "  (lstm): LSTM(64, 128, batch_first=True)\n",
      "  (fc): Linear(in_features=128, out_features=1, bias=True)\n",
      "  (sigmoid): Sigmoid()\n",
      ")\n"
     ]
    }
   ],
   "source": [
    "vocab_size = len(word2ind)\n",
    "d_feature = 64\n",
    "hidden_size = 128\n",
    "n_outputs = 1\n",
    "num_layers = 1\n",
    "\n",
    "model = SentimentClassifier(\n",
    "                            vocab_size=vocab_size, \n",
    "                            d_feature=d_feature,  \n",
    "                            num_layers=num_layers, \n",
    "                            hidden_size=hidden_size, \n",
    "                            n_outputs=n_outputs).to(device)\n",
    "\n",
    "print(model)"
   ]
  },
  {
   "cell_type": "markdown",
   "metadata": {},
   "source": [
    "## <span style=\"color:teal\">Train model</span>"
   ]
  },
  {
   "cell_type": "code",
   "execution_count": 23,
   "metadata": {},
   "outputs": [],
   "source": [
    "def train_model(train_loader=train_loader,\n",
    "             val_loader=val_loader,\n",
    "             model=model,\n",
    "             optimizer=torch.optim.Adam(model.parameters(), lr=0.001),\n",
    "             criterion=nn.BCELoss(),\n",
    "             n_epochs=6):\n",
    "    \n",
    "    start_time = time.time()\n",
    "    \n",
    "    train_losses = []\n",
    "    val_losses = []\n",
    "    \n",
    "    for epoch in range(n_epochs):\n",
    "        running_loss = 0\n",
    "        running_loss_val = 0\n",
    "        \n",
    "        model.train()\n",
    "        \n",
    "        for inputs, labels in train_loader:  \n",
    "            optimizer.zero_grad()\n",
    "            output = model(inputs)\n",
    "            loss = criterion(output.squeeze(), labels.float())\n",
    "            nn.utils.clip_grad_norm_(model.parameters(), 5)\n",
    "            loss.backward()\n",
    "            optimizer.step()\n",
    "            running_loss += loss.item()\n",
    "            \n",
    "        train_losses.append(running_loss/len(train_loader))\n",
    "        model.eval()\n",
    "        \n",
    "        \n",
    "        for val_inputs, val_labels in val_loader:\n",
    "            val_output = model(val_inputs)\n",
    "            val_loss = criterion(val_output.squeeze(), val_labels.float())\n",
    "            running_loss_val += val_loss.item()\n",
    "            \n",
    "        val_losses.append(running_loss_val/len(val_loader))\n",
    "        \n",
    "        print(f\"Epoch: {epoch+1}/{ n_epochs}\".format(),\n",
    "              f\"Time taken: {((time.time() - start_time) / 60):.2f} min\",\n",
    "              f\"Training Loss: {loss.item():.4f}\",\n",
    "              f\"Validation Loss: {val_loss.item():.4f}\")\n",
    "            \n",
    "    print(f\"Training completed in {(time.time() - start_time) / 60} min.\")\n",
    "    print(f\"Final loss: {loss}\\nValidation loss: {val_loss}\")\n",
    "    \n",
    "    return train_losses, val_losses\n",
    "    "
   ]
  },
  {
   "cell_type": "code",
   "execution_count": 24,
   "metadata": {
    "scrolled": true
   },
   "outputs": [
    {
     "name": "stdout",
     "output_type": "stream",
     "text": [
      "Epoch: 1/9 Time taken: 0.61 min Training Loss: 0.5617 Validation Loss: 0.5585\n",
      "Epoch: 2/9 Time taken: 1.15 min Training Loss: 0.4609 Validation Loss: 0.6069\n",
      "Epoch: 3/9 Time taken: 1.71 min Training Loss: 0.3995 Validation Loss: 0.4462\n",
      "Epoch: 4/9 Time taken: 2.26 min Training Loss: 0.3540 Validation Loss: 0.4662\n",
      "Epoch: 5/9 Time taken: 2.80 min Training Loss: 0.3795 Validation Loss: 0.4488\n",
      "Epoch: 6/9 Time taken: 3.37 min Training Loss: 0.3600 Validation Loss: 0.4497\n",
      "Epoch: 7/9 Time taken: 3.92 min Training Loss: 0.2880 Validation Loss: 0.4705\n",
      "Epoch: 8/9 Time taken: 4.47 min Training Loss: 0.3145 Validation Loss: 0.5938\n",
      "Epoch: 9/9 Time taken: 5.02 min Training Loss: 0.2606 Validation Loss: 0.4396\n",
      "Training completed in 5.0160968661308285 min.\n",
      "Final loss: 0.26056012511253357\n",
      "Validation loss: 0.4396040439605713\n"
     ]
    }
   ],
   "source": [
    "train_losses, val_losses = train_model(n_epochs=9)"
   ]
  },
  {
   "cell_type": "code",
   "execution_count": 25,
   "metadata": {},
   "outputs": [],
   "source": [
    "def plot_losses(train_losses, val_losses):\n",
    "    plt.figure(figsize=(10,5))\n",
    "    plt.title(\"Training and Validation Loss\")\n",
    "    plt.plot(val_losses, label=\"val\")\n",
    "    plt.plot(train_losses, label=\"train\")\n",
    "    plt.xlabel(\"Iterations\")\n",
    "    plt.ylabel(\"Loss\")\n",
    "    plt.legend()\n",
    "    plt.show()"
   ]
  },
  {
   "cell_type": "code",
   "execution_count": 26,
   "metadata": {},
   "outputs": [
    {
     "data": {
      "image/png": "[encoded data removed]",
      "text/plain": [
       "<Figure size 720x360 with 1 Axes>"
      ]
     },
     "metadata": {
      "needs_background": "light"
     },
     "output_type": "display_data"
    }
   ],
   "source": [
    "plot_losses(train_losses, val_losses)"
   ]
  },
  {
   "cell_type": "code",
   "execution_count": null,
   "metadata": {},
   "outputs": [],
   "source": []
  }
 ],
 "metadata": {
  "kernelspec": {
   "display_name": "Python 3",
   "language": "python",
   "name": "python3"
  },
  "language_info": {
   "codemirror_mode": {
    "name": "ipython",
    "version": 3
   },
   "file_extension": ".py",
   "mimetype": "text/x-python",
   "name": "python",
   "nbconvert_exporter": "python",
   "pygments_lexer": "ipython3",
   "version": "3.8.5"
  }
 },
 "nbformat": 4,
 "nbformat_minor": 4
}
